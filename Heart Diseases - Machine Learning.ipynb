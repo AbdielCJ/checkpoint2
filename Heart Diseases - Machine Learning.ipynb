{
 "cells": [
  {
   "cell_type": "markdown",
   "metadata": {},
   "source": [
    "# Heart Diseases - Machine Learning"
   ]
  },
  {
   "cell_type": "markdown",
   "metadata": {},
   "source": [
    "## Selección de Proyecto"
   ]
  },
  {
   "cell_type": "markdown",
   "metadata": {},
   "source": [
    "### Motivación\n",
    "\n",
    "En mi caso personal, fue debido a la no conformidad con mi proyecto anterior que exploré la posibilidad de indagar en otros sectores (como la salud, en este caso) para poder aplicar los principales algoritmos expuestos a lo largo de las clases."
   ]
  },
  {
   "cell_type": "markdown",
   "metadata": {},
   "source": [
    "### Objetivo\n",
    "\n",
    "Reflejar los conocimientos adquiridos a lo largo del curso a través de la aplicación de algoritmos de Machine Learning destinados a la clasificación binaria, con el propósito de detectar qué personas, en base a ciertas condiciones, tuvieron una cardiopatía."
   ]
  },
  {
   "cell_type": "markdown",
   "metadata": {},
   "source": [
    "### Planteamiento del problema"
   ]
  },
  {
   "cell_type": "markdown",
   "metadata": {},
   "source": [
    "#### Contexto\n",
    "\n",
    "De acuerdo con Lapp D. (2019), quien fue el que proporcionó a Kaggle el dataset usado a lo largo de este proyecto, los datos se remontan a 1988 y proviene de pacientes 4 lugares con 76 atributos, pero el presente está limitado a únicamente 14, a través de los cuáles se exponen ciertas condiciones de aquellos pacientes que han presentado, o no, una cardiopatía.\n",
    "\n",
    "https://www.kaggle.com/johnsmith88/heart-disease-dataset"
   ]
  },
  {
   "cell_type": "markdown",
   "metadata": {},
   "source": [
    "#### Problemática\n",
    "\n",
    "La problemática consiste en que no se cuenta con un algoritmo que permita predecir la presencia de una cardiopatía en función de las características que se estudian para conocer la salud del paciente. Gracias a un conjunto de datos históricos, en los que además de las condiciones posteriormente enunciadas, se incluyó un campo en el que se registró la presencia de una cardiopatía. De esta manera, se procederá a evaluar un conjunto de algoritmos para determinar cuál es el más óptimo para clasificar a los pacientes en un criterio binario (presentará o no una cardiopatía)."
   ]
  },
  {
   "cell_type": "markdown",
   "metadata": {},
   "source": [
    "#### Uso de Machine Learning\n",
    "\n",
    "En este apartado de expondrá el por qué es justificable el uso de Machine Learning en el presente proyecto. De acuerdo con Encora (2020), la importancia del uso de Machine Learning en el ámbito médico es trascendental, pues gracias a la recolección de inmensaas cantidades de datos, se ha podido aplicar en problemáticas muy similares a la anteriormente descrita: la clasificación y predicción de posibles pacientes con cáncer de mama o el alzhaimer. Es importante, a su vez, destacar que la aplicación de Machine Learning trasciende el caso del presente proyecto, pues se ha aplicado sobre datos no estructurados, como en el procesamiento de imágenes de rayos X (para las personas con cáncer, por ejemplo), etc.\n",
    "\n",
    "https://www.encora.com/es/blog/machine-learning-aplicado-al-diagnostico-medico"
   ]
  },
  {
   "cell_type": "markdown",
   "metadata": {},
   "source": [
    "### Librerías"
   ]
  },
  {
   "cell_type": "code",
   "execution_count": 289,
   "metadata": {},
   "outputs": [],
   "source": [
    "# Análisis de Datos\n",
    "import pandas as pd\n",
    "import numpy as np\n",
    "import matplotlib.pyplot as plt\n",
    "import seaborn as sns\n",
    "\n",
    "# Machine Learning\n",
    "from sklearn.metrics import confusion_matrix\n",
    "from sklearn.model_selection import train_test_split\n",
    "from sklearn.preprocessing import PowerTransformer\n",
    "from sklearn.neighbors import KNeighborsClassifier\n",
    "from sklearn.naive_bayes import GaussianNB\n",
    "from sklearn.linear_model import LogisticRegression\n",
    "from sklearn.svm import SVC\n",
    "from sklearn.ensemble import RandomForestClassifier\n",
    "from sklearn.neural_network import MLPClassifier\n",
    "from sklearn.model_selection import RandomizedSearchCV\n",
    "from sklearn.metrics import roc_curve, auc\n",
    "import warnings\n",
    "warnings.filterwarnings('ignore')"
   ]
  },
  {
   "cell_type": "markdown",
   "metadata": {},
   "source": [
    "### Funciones"
   ]
  },
  {
   "cell_type": "code",
   "execution_count": 130,
   "metadata": {},
   "outputs": [],
   "source": [
    "def calcularAccuracy(TP, TN, FP, FN):\n",
    "    accuracy = (TP + TN) / (TP + TN + FP + FN)\n",
    "    accuracy = accuracy * 100\n",
    "    return accuracy\n",
    "def calcularSensibilidad(TP, TN, FP, FN):\n",
    "    sensibilidad = TP / (TP + FN)\n",
    "    sensibilidad = sensibilidad * 100\n",
    "    return sensibilidad\n",
    "def calcularEspecificidad(TP, TN, FP, FN):\n",
    "    especificidad = TN / (TN + FP)\n",
    "    especificidad = especificidad * 100\n",
    "    return especificidad\n",
    "    \n",
    "def evaluar(y_test, y_pred):\n",
    "    resultado = confusion_matrix(y_test, y_pred)\n",
    "    print(resultado)\n",
    "    (TN, FP, FN, TP) = resultado.ravel()\n",
    "    print(\"True positives: \"+str(TP))\n",
    "    print(\"True negatives: \"+str(TN))\n",
    "    print(\"False positives: \"+str(FP))\n",
    "    print(\"False negative: \"+str(FN))\n",
    "    \n",
    "    acc = calcularAccuracy(TP, TN, FP, FN)\n",
    "    sen = calcularSensibilidad(TP, TN, FP, FN)\n",
    "    spec = calcularEspecificidad(TP, TN, FP, FN)\n",
    "    print(\"Precision:\"+str(acc.round(2))+\"%\")\n",
    "    print(\"Sensibilidad:\"+str(sen.round(2))+\"%\")\n",
    "    print(\"Especificidad:\"+str(spec.round(2))+\"%\")"
   ]
  },
  {
   "cell_type": "markdown",
   "metadata": {},
   "source": [
    "## Data Analysis (EDA)"
   ]
  },
  {
   "cell_type": "markdown",
   "metadata": {},
   "source": [
    "### Limpieza de BBDD y tipos de datos"
   ]
  },
  {
   "cell_type": "code",
   "execution_count": 191,
   "metadata": {},
   "outputs": [
    {
     "data": {
      "text/html": [
       "<div>\n",
       "<style scoped>\n",
       "    .dataframe tbody tr th:only-of-type {\n",
       "        vertical-align: middle;\n",
       "    }\n",
       "\n",
       "    .dataframe tbody tr th {\n",
       "        vertical-align: top;\n",
       "    }\n",
       "\n",
       "    .dataframe thead th {\n",
       "        text-align: right;\n",
       "    }\n",
       "</style>\n",
       "<table border=\"1\" class=\"dataframe\">\n",
       "  <thead>\n",
       "    <tr style=\"text-align: right;\">\n",
       "      <th></th>\n",
       "      <th>age</th>\n",
       "      <th>sex</th>\n",
       "      <th>cp</th>\n",
       "      <th>trestbps</th>\n",
       "      <th>chol</th>\n",
       "      <th>fbs</th>\n",
       "      <th>restecg</th>\n",
       "      <th>thalach</th>\n",
       "      <th>exang</th>\n",
       "      <th>oldpeak</th>\n",
       "      <th>slope</th>\n",
       "      <th>ca</th>\n",
       "      <th>thal</th>\n",
       "      <th>target</th>\n",
       "    </tr>\n",
       "  </thead>\n",
       "  <tbody>\n",
       "    <tr>\n",
       "      <th>0</th>\n",
       "      <td>52</td>\n",
       "      <td>1</td>\n",
       "      <td>0</td>\n",
       "      <td>125</td>\n",
       "      <td>212</td>\n",
       "      <td>0</td>\n",
       "      <td>1</td>\n",
       "      <td>168</td>\n",
       "      <td>0</td>\n",
       "      <td>1.0</td>\n",
       "      <td>2</td>\n",
       "      <td>2</td>\n",
       "      <td>3</td>\n",
       "      <td>0</td>\n",
       "    </tr>\n",
       "    <tr>\n",
       "      <th>1</th>\n",
       "      <td>53</td>\n",
       "      <td>1</td>\n",
       "      <td>0</td>\n",
       "      <td>140</td>\n",
       "      <td>203</td>\n",
       "      <td>1</td>\n",
       "      <td>0</td>\n",
       "      <td>155</td>\n",
       "      <td>1</td>\n",
       "      <td>3.1</td>\n",
       "      <td>0</td>\n",
       "      <td>0</td>\n",
       "      <td>3</td>\n",
       "      <td>0</td>\n",
       "    </tr>\n",
       "    <tr>\n",
       "      <th>2</th>\n",
       "      <td>70</td>\n",
       "      <td>1</td>\n",
       "      <td>0</td>\n",
       "      <td>145</td>\n",
       "      <td>174</td>\n",
       "      <td>0</td>\n",
       "      <td>1</td>\n",
       "      <td>125</td>\n",
       "      <td>1</td>\n",
       "      <td>2.6</td>\n",
       "      <td>0</td>\n",
       "      <td>0</td>\n",
       "      <td>3</td>\n",
       "      <td>0</td>\n",
       "    </tr>\n",
       "    <tr>\n",
       "      <th>3</th>\n",
       "      <td>61</td>\n",
       "      <td>1</td>\n",
       "      <td>0</td>\n",
       "      <td>148</td>\n",
       "      <td>203</td>\n",
       "      <td>0</td>\n",
       "      <td>1</td>\n",
       "      <td>161</td>\n",
       "      <td>0</td>\n",
       "      <td>0.0</td>\n",
       "      <td>2</td>\n",
       "      <td>1</td>\n",
       "      <td>3</td>\n",
       "      <td>0</td>\n",
       "    </tr>\n",
       "    <tr>\n",
       "      <th>4</th>\n",
       "      <td>62</td>\n",
       "      <td>0</td>\n",
       "      <td>0</td>\n",
       "      <td>138</td>\n",
       "      <td>294</td>\n",
       "      <td>1</td>\n",
       "      <td>1</td>\n",
       "      <td>106</td>\n",
       "      <td>0</td>\n",
       "      <td>1.9</td>\n",
       "      <td>1</td>\n",
       "      <td>3</td>\n",
       "      <td>2</td>\n",
       "      <td>0</td>\n",
       "    </tr>\n",
       "  </tbody>\n",
       "</table>\n",
       "</div>"
      ],
      "text/plain": [
       "   age  sex  cp  trestbps  chol  fbs  restecg  thalach  exang  oldpeak  slope  \\\n",
       "0   52    1   0       125   212    0        1      168      0      1.0      2   \n",
       "1   53    1   0       140   203    1        0      155      1      3.1      0   \n",
       "2   70    1   0       145   174    0        1      125      1      2.6      0   \n",
       "3   61    1   0       148   203    0        1      161      0      0.0      2   \n",
       "4   62    0   0       138   294    1        1      106      0      1.9      1   \n",
       "\n",
       "   ca  thal  target  \n",
       "0   2     3       0  \n",
       "1   0     3       0  \n",
       "2   0     3       0  \n",
       "3   1     3       0  \n",
       "4   3     2       0  "
      ]
     },
     "execution_count": 191,
     "metadata": {},
     "output_type": "execute_result"
    }
   ],
   "source": [
    "df = pd.read_csv('heart.csv')\n",
    "df.head()"
   ]
  },
  {
   "cell_type": "code",
   "execution_count": 4,
   "metadata": {},
   "outputs": [
    {
     "data": {
      "text/plain": [
       "(1025, 14)"
      ]
     },
     "execution_count": 4,
     "metadata": {},
     "output_type": "execute_result"
    }
   ],
   "source": [
    "df.shape"
   ]
  },
  {
   "cell_type": "code",
   "execution_count": 5,
   "metadata": {},
   "outputs": [
    {
     "data": {
      "text/plain": [
       "age         0\n",
       "sex         0\n",
       "cp          0\n",
       "trestbps    0\n",
       "chol        0\n",
       "fbs         0\n",
       "restecg     0\n",
       "thalach     0\n",
       "exang       0\n",
       "oldpeak     0\n",
       "slope       0\n",
       "ca          0\n",
       "thal        0\n",
       "target      0\n",
       "dtype: int64"
      ]
     },
     "execution_count": 5,
     "metadata": {},
     "output_type": "execute_result"
    }
   ],
   "source": [
    "df.isna().sum()"
   ]
  },
  {
   "cell_type": "markdown",
   "metadata": {},
   "source": [
    "### Descripción de las columnas"
   ]
  },
  {
   "cell_type": "markdown",
   "metadata": {},
   "source": [
    "#### Nombres de las columnas\n",
    "\n",
    "Age = Edad    \n",
    "\n",
    "Sex = Sexo (1 = Hombre, 0 = Mujer)                                            \n",
    "\n",
    "Cp = Tipo de dolor de pecho               \n",
    "\n",
    "Trestbps = Presión arterial en reposo                 \n",
    "\n",
    "Chol = Colesterol sérico en mg/dl                     \n",
    "\n",
    "Fbs = Glucemia en ayunas                              \n",
    "\n",
    "Restecg = Resultados electrocardiográficos en reposo\n",
    "\n",
    "Thalach = Frecuencia cardíaca máxima alcanzada\n",
    "\n",
    "Exang = Angina inducida por ejercicio\n",
    "\n",
    "Oldpeak = Depresión del ST inducida por el ejercicio en relación con el descanso\n",
    "\n",
    "Slope = La pendiente del segmento ST de ejercicio pico\n",
    "\n",
    "Ca = Número de vasos importantes\n",
    "\n",
    "Thal = 0 = normal; 1 = defecto fijo; 2 = defecto reversible\n",
    "\n",
    "Target = 0 = no tiene cardiopatía; 1 = tiene cardiopatía"
   ]
  },
  {
   "cell_type": "code",
   "execution_count": 6,
   "metadata": {},
   "outputs": [
    {
     "data": {
      "text/plain": [
       "age           int64\n",
       "sex           int64\n",
       "cp            int64\n",
       "trestbps      int64\n",
       "chol          int64\n",
       "fbs           int64\n",
       "restecg       int64\n",
       "thalach       int64\n",
       "exang         int64\n",
       "oldpeak     float64\n",
       "slope         int64\n",
       "ca            int64\n",
       "thal          int64\n",
       "target        int64\n",
       "dtype: object"
      ]
     },
     "execution_count": 6,
     "metadata": {},
     "output_type": "execute_result"
    }
   ],
   "source": [
    "df.dtypes"
   ]
  },
  {
   "cell_type": "code",
   "execution_count": 7,
   "metadata": {},
   "outputs": [
    {
     "data": {
      "text/plain": [
       "41"
      ]
     },
     "execution_count": 7,
     "metadata": {},
     "output_type": "execute_result"
    }
   ],
   "source": [
    "# Valores únicos de edad (age)\n",
    "len(np.unique(df['age']))"
   ]
  },
  {
   "cell_type": "code",
   "execution_count": 8,
   "metadata": {},
   "outputs": [
    {
     "data": {
      "text/plain": [
       "2"
      ]
     },
     "execution_count": 8,
     "metadata": {},
     "output_type": "execute_result"
    }
   ],
   "source": [
    "# Valores únicos de sexo (sex)\n",
    "len(np.unique(df['sex']))"
   ]
  },
  {
   "cell_type": "code",
   "execution_count": 9,
   "metadata": {},
   "outputs": [
    {
     "data": {
      "text/plain": [
       "4"
      ]
     },
     "execution_count": 9,
     "metadata": {},
     "output_type": "execute_result"
    }
   ],
   "source": [
    "# Valores únicos de tipo de color de pecho (cp)\n",
    "len(np.unique(df['cp']))"
   ]
  },
  {
   "cell_type": "code",
   "execution_count": 10,
   "metadata": {},
   "outputs": [
    {
     "data": {
      "text/plain": [
       "49"
      ]
     },
     "execution_count": 10,
     "metadata": {},
     "output_type": "execute_result"
    }
   ],
   "source": [
    "# # Valores únicos de presión arterial en reposo (trestbps)\n",
    "len(np.unique(df['trestbps']))"
   ]
  },
  {
   "cell_type": "code",
   "execution_count": 11,
   "metadata": {},
   "outputs": [
    {
     "data": {
      "text/plain": [
       "152"
      ]
     },
     "execution_count": 11,
     "metadata": {},
     "output_type": "execute_result"
    }
   ],
   "source": [
    "# Valores únicos de colesterol sérico (chol)\n",
    "len(np.unique(df['chol']))"
   ]
  },
  {
   "cell_type": "code",
   "execution_count": 12,
   "metadata": {},
   "outputs": [
    {
     "data": {
      "text/plain": [
       "2"
      ]
     },
     "execution_count": 12,
     "metadata": {},
     "output_type": "execute_result"
    }
   ],
   "source": [
    "# Valores únicos de glucemia en ayunas (fbs)\n",
    "len(np.unique(df['fbs']))"
   ]
  },
  {
   "cell_type": "code",
   "execution_count": 13,
   "metadata": {},
   "outputs": [
    {
     "data": {
      "text/plain": [
       "3"
      ]
     },
     "execution_count": 13,
     "metadata": {},
     "output_type": "execute_result"
    }
   ],
   "source": [
    "# Valores únicos de resultados electrocardiográficos en reposo (restecg)\n",
    "len(np.unique(df['restecg']))"
   ]
  },
  {
   "cell_type": "code",
   "execution_count": 14,
   "metadata": {},
   "outputs": [
    {
     "data": {
      "text/plain": [
       "91"
      ]
     },
     "execution_count": 14,
     "metadata": {},
     "output_type": "execute_result"
    }
   ],
   "source": [
    "# Valores únicos de la frecuencia cardíaca máxima alcanzada (thalach)\n",
    "len(np.unique(df['thalach']))"
   ]
  },
  {
   "cell_type": "code",
   "execution_count": 15,
   "metadata": {},
   "outputs": [
    {
     "data": {
      "text/plain": [
       "2"
      ]
     },
     "execution_count": 15,
     "metadata": {},
     "output_type": "execute_result"
    }
   ],
   "source": [
    "# Valores únicos de angina inducida por ejercicio (exang)\n",
    "len(np.unique(df['exang']))"
   ]
  },
  {
   "cell_type": "code",
   "execution_count": 16,
   "metadata": {},
   "outputs": [
    {
     "data": {
      "text/plain": [
       "40"
      ]
     },
     "execution_count": 16,
     "metadata": {},
     "output_type": "execute_result"
    }
   ],
   "source": [
    "# Valores únicos de depresión del ST inducida por el ejercicio en relación con el descanso (oldpeak)\n",
    "len(np.unique(df['oldpeak']))"
   ]
  },
  {
   "cell_type": "code",
   "execution_count": 17,
   "metadata": {},
   "outputs": [
    {
     "data": {
      "text/plain": [
       "3"
      ]
     },
     "execution_count": 17,
     "metadata": {},
     "output_type": "execute_result"
    }
   ],
   "source": [
    "# Valores únicos de la pendiente del segmento ST de ejercicio pico (slope)\n",
    "len(np.unique(df['slope']))"
   ]
  },
  {
   "cell_type": "code",
   "execution_count": 18,
   "metadata": {},
   "outputs": [
    {
     "data": {
      "text/plain": [
       "5"
      ]
     },
     "execution_count": 18,
     "metadata": {},
     "output_type": "execute_result"
    }
   ],
   "source": [
    "# Valores únicos de número de vasos importantes (ca)\n",
    "len(np.unique(df['ca']))"
   ]
  },
  {
   "cell_type": "code",
   "execution_count": 19,
   "metadata": {},
   "outputs": [
    {
     "data": {
      "text/plain": [
       "4"
      ]
     },
     "execution_count": 19,
     "metadata": {},
     "output_type": "execute_result"
    }
   ],
   "source": [
    "# Valores únicos de 0 = normal; 1 = defecto fijo; 2 = defecto reversible (thal)\n",
    "len(np.unique(df['thal']))"
   ]
  },
  {
   "cell_type": "code",
   "execution_count": 20,
   "metadata": {},
   "outputs": [
    {
     "data": {
      "text/plain": [
       "2"
      ]
     },
     "execution_count": 20,
     "metadata": {},
     "output_type": "execute_result"
    }
   ],
   "source": [
    "# Valores únicos de 0 = no tiene cardiopatía; 1 = tiene cardiopatía (target)\n",
    "len(np.unique(df['target']))"
   ]
  },
  {
   "cell_type": "markdown",
   "metadata": {},
   "source": [
    "### Análisis exploratorio"
   ]
  },
  {
   "cell_type": "markdown",
   "metadata": {},
   "source": [
    "#### Medidas de tendencia central"
   ]
  },
  {
   "cell_type": "code",
   "execution_count": 21,
   "metadata": {},
   "outputs": [
    {
     "name": "stdout",
     "output_type": "stream",
     "text": [
      "La media es: 54.43\n",
      "La mediana es: 56.0\n",
      "La moda es: 0    58\n",
      "dtype: int64\n"
     ]
    }
   ],
   "source": [
    "# Edad (Age)\n",
    "print(f\"La media es: {round(df['age'].mean(), 2)}\")\n",
    "print(f\"La mediana es: {df['age'].median()}\")\n",
    "print(f\"La moda es: {df['age'].mode()}\")"
   ]
  },
  {
   "cell_type": "code",
   "execution_count": 22,
   "metadata": {},
   "outputs": [
    {
     "name": "stdout",
     "output_type": "stream",
     "text": [
      "La media es: 0.7\n",
      "La mediana es: 1.0\n",
      "La moda es: 0    1\n",
      "dtype: int64\n"
     ]
    }
   ],
   "source": [
    "# Sexo (Sex)\n",
    "print(f\"La media es: {round(df['sex'].mean(), 2)}\")\n",
    "print(f\"La mediana es: {df['sex'].median()}\")\n",
    "print(f\"La moda es: {df['sex'].mode()}\")"
   ]
  },
  {
   "cell_type": "code",
   "execution_count": 23,
   "metadata": {},
   "outputs": [
    {
     "name": "stdout",
     "output_type": "stream",
     "text": [
      "La media es: 0.94\n",
      "La mediana es: 1.0\n",
      "La moda es: 0    0\n",
      "dtype: int64\n"
     ]
    }
   ],
   "source": [
    "# Tipo de dolor de pecho (Cp)\n",
    "print(f\"La media es: {round(df['cp'].mean(), 2)}\")\n",
    "print(f\"La mediana es: {df['cp'].median()}\")\n",
    "print(f\"La moda es: {df['cp'].mode()}\")"
   ]
  },
  {
   "cell_type": "code",
   "execution_count": 24,
   "metadata": {},
   "outputs": [
    {
     "name": "stdout",
     "output_type": "stream",
     "text": [
      "La media es: 131.61\n",
      "La mediana es: 130.0\n",
      "La moda es: 0    120\n",
      "dtype: int64\n"
     ]
    }
   ],
   "source": [
    "# Presión arterial en reposo (Trestbps)\n",
    "print(f\"La media es: {round(df['trestbps'].mean(), 2)}\")\n",
    "print(f\"La mediana es: {df['trestbps'].median()}\")\n",
    "print(f\"La moda es: {df['trestbps'].mode()}\")"
   ]
  },
  {
   "cell_type": "code",
   "execution_count": 25,
   "metadata": {},
   "outputs": [
    {
     "name": "stdout",
     "output_type": "stream",
     "text": [
      "La media es: 246.0\n",
      "La mediana es: 240.0\n",
      "La moda es: 0    204\n",
      "1    234\n",
      "dtype: int64\n"
     ]
    }
   ],
   "source": [
    "# Colesterol sérico en mg/dl (Chol)\n",
    "print(f\"La media es: {round(df['chol'].mean(), 2)}\")\n",
    "print(f\"La mediana es: {df['chol'].median()}\")\n",
    "print(f\"La moda es: {df['chol'].mode()}\")"
   ]
  },
  {
   "cell_type": "code",
   "execution_count": 26,
   "metadata": {},
   "outputs": [
    {
     "name": "stdout",
     "output_type": "stream",
     "text": [
      "La media es: 0.15\n",
      "La mediana es: 0.0\n",
      "La moda es: 0    0\n",
      "dtype: int64\n"
     ]
    }
   ],
   "source": [
    "# Glucemia en ayunas (Fbs)\n",
    "print(f\"La media es: {round(df['fbs'].mean(), 2)}\")\n",
    "print(f\"La mediana es: {df['fbs'].median()}\")\n",
    "print(f\"La moda es: {df['fbs'].mode()}\")"
   ]
  },
  {
   "cell_type": "code",
   "execution_count": 27,
   "metadata": {},
   "outputs": [
    {
     "name": "stdout",
     "output_type": "stream",
     "text": [
      "La media es: 0.53\n",
      "La mediana es: 1.0\n",
      "La moda es: 0    1\n",
      "dtype: int64\n"
     ]
    }
   ],
   "source": [
    "# Resultados electrocardiográficos en reposo (Restecg)\n",
    "print(f\"La media es: {round(df['restecg'].mean(), 2)}\")\n",
    "print(f\"La mediana es: {df['restecg'].median()}\")\n",
    "print(f\"La moda es: {df['restecg'].mode()}\")"
   ]
  },
  {
   "cell_type": "code",
   "execution_count": 28,
   "metadata": {},
   "outputs": [
    {
     "name": "stdout",
     "output_type": "stream",
     "text": [
      "La media es: 149.11\n",
      "La mediana es: 152.0\n",
      "La moda es: 0    162\n",
      "dtype: int64\n"
     ]
    }
   ],
   "source": [
    "# Frecuencia cardíaca máxima alcanzada (Thalach)\n",
    "print(f\"La media es: {round(df['thalach'].mean(), 2)}\")\n",
    "print(f\"La mediana es: {df['thalach'].median()}\")\n",
    "print(f\"La moda es: {df['thalach'].mode()}\")"
   ]
  },
  {
   "cell_type": "code",
   "execution_count": 29,
   "metadata": {},
   "outputs": [
    {
     "name": "stdout",
     "output_type": "stream",
     "text": [
      "La media es: 0.34\n",
      "La mediana es: 0.0\n",
      "La moda es: 0    0\n",
      "dtype: int64\n"
     ]
    }
   ],
   "source": [
    "# Angina inducida por ejercicio (Exang)\n",
    "print(f\"La media es: {round(df['exang'].mean(), 2)}\")\n",
    "print(f\"La mediana es: {df['exang'].median()}\")\n",
    "print(f\"La moda es: {df['exang'].mode()}\")"
   ]
  },
  {
   "cell_type": "code",
   "execution_count": 30,
   "metadata": {},
   "outputs": [
    {
     "name": "stdout",
     "output_type": "stream",
     "text": [
      "La media es: 1.07\n",
      "La mediana es: 0.8\n",
      "La moda es: 0    0.0\n",
      "dtype: float64\n"
     ]
    }
   ],
   "source": [
    "# Depresión del ST inducida por el ejercicio en relación con el descanso (Oldpeak)\n",
    "print(f\"La media es: {round(df['oldpeak'].mean(), 2)}\")\n",
    "print(f\"La mediana es: {df['oldpeak'].median()}\")\n",
    "print(f\"La moda es: {df['oldpeak'].mode()}\")"
   ]
  },
  {
   "cell_type": "code",
   "execution_count": 31,
   "metadata": {},
   "outputs": [
    {
     "name": "stdout",
     "output_type": "stream",
     "text": [
      "La media es: 1.39\n",
      "La mediana es: 1.0\n",
      "La moda es: 0    1\n",
      "dtype: int64\n"
     ]
    }
   ],
   "source": [
    "# La pendiente del segmento ST de ejercicio pico (Slope)\n",
    "print(f\"La media es: {round(df['slope'].mean(), 2)}\")\n",
    "print(f\"La mediana es: {df['slope'].median()}\")\n",
    "print(f\"La moda es: {df['slope'].mode()}\")"
   ]
  },
  {
   "cell_type": "code",
   "execution_count": 32,
   "metadata": {},
   "outputs": [
    {
     "name": "stdout",
     "output_type": "stream",
     "text": [
      "La media es: 0.75\n",
      "La mediana es: 0.0\n",
      "La moda es: 0    0\n",
      "dtype: int64\n"
     ]
    }
   ],
   "source": [
    "# Número de vasos importantes (Ca)\n",
    "print(f\"La media es: {round(df['ca'].mean(), 2)}\")\n",
    "print(f\"La mediana es: {df['ca'].median()}\")\n",
    "print(f\"La moda es: {df['ca'].mode()}\")"
   ]
  },
  {
   "cell_type": "code",
   "execution_count": 33,
   "metadata": {},
   "outputs": [
    {
     "name": "stdout",
     "output_type": "stream",
     "text": [
      "La media es: 2.32\n",
      "La mediana es: 2.0\n",
      "La moda es: 0    2\n",
      "dtype: int64\n"
     ]
    }
   ],
   "source": [
    "# 0 = normal; 1 = defecto fijo; 2 = defecto reversible (Thal)\n",
    "print(f\"La media es: {round(df['thal'].mean(), 2)}\")\n",
    "print(f\"La mediana es: {df['thal'].median()}\")\n",
    "print(f\"La moda es: {df['thal'].mode()}\")"
   ]
  },
  {
   "cell_type": "code",
   "execution_count": 34,
   "metadata": {},
   "outputs": [
    {
     "name": "stdout",
     "output_type": "stream",
     "text": [
      "La media es: 0.51\n",
      "La mediana es: 1.0\n",
      "La moda es: 0    1\n",
      "dtype: int64\n"
     ]
    }
   ],
   "source": [
    "# 0 = no tiene cardiopatía; 1 = tiene cardiopatía (Target)\n",
    "print(f\"La media es: {round(df['target'].mean(), 2)}\")\n",
    "print(f\"La mediana es: {df['target'].median()}\")\n",
    "print(f\"La moda es: {df['target'].mode()}\")"
   ]
  },
  {
   "cell_type": "markdown",
   "metadata": {},
   "source": [
    "#### Medidas de dispersión"
   ]
  },
  {
   "cell_type": "code",
   "execution_count": 35,
   "metadata": {},
   "outputs": [
    {
     "name": "stdout",
     "output_type": "stream",
     "text": [
      "El valor máximo es: 77\n",
      "El valor mínimo es: 29\n",
      "El rango es: 48\n",
      "La desviación estándar es: 9.07\n"
     ]
    }
   ],
   "source": [
    "# Edad (Age)\n",
    "maximo_age = df['age'].max()\n",
    "minimo_age = df['age'].min()\n",
    "\n",
    "print(f\"El valor máximo es: {maximo_age}\")\n",
    "print(f\"El valor mínimo es: {minimo_age}\")\n",
    "print(f\"El rango es: {maximo_age - minimo_age}\")\n",
    "print(f\"La desviación estándar es: {round(df['age'].std(), 2)}\")"
   ]
  },
  {
   "cell_type": "code",
   "execution_count": 36,
   "metadata": {},
   "outputs": [
    {
     "name": "stdout",
     "output_type": "stream",
     "text": [
      "El valor máximo es: 1\n",
      "El valor mínimo es: 0\n",
      "El rango es: 1\n",
      "La desviación estándar es: 0.46\n"
     ]
    }
   ],
   "source": [
    "# Sexo (Sex)\n",
    "maximo_sex = df['sex'].max()\n",
    "minimo_sex = df['sex'].min()\n",
    "\n",
    "print(f\"El valor máximo es: {maximo_sex}\")\n",
    "print(f\"El valor mínimo es: {minimo_sex}\")\n",
    "print(f\"El rango es: {maximo_sex - minimo_sex}\")\n",
    "print(f\"La desviación estándar es: {round(df['sex'].std(), 2)}\")"
   ]
  },
  {
   "cell_type": "code",
   "execution_count": 37,
   "metadata": {},
   "outputs": [
    {
     "name": "stdout",
     "output_type": "stream",
     "text": [
      "El valor máximo es: 3\n",
      "El valor mínimo es: 0\n",
      "El rango es: 3\n",
      "La desviación estándar es: 1.03\n"
     ]
    }
   ],
   "source": [
    "# Tipo de dolor de pecho (Cp)\n",
    "maximo_cp = df['cp'].max()\n",
    "minimo_cp = df['cp'].min()\n",
    "\n",
    "print(f\"El valor máximo es: {maximo_cp}\")\n",
    "print(f\"El valor mínimo es: {minimo_cp}\")\n",
    "print(f\"El rango es: {maximo_cp - minimo_cp}\")\n",
    "print(f\"La desviación estándar es: {round(df['cp'].std(), 2)}\")"
   ]
  },
  {
   "cell_type": "code",
   "execution_count": 38,
   "metadata": {},
   "outputs": [
    {
     "name": "stdout",
     "output_type": "stream",
     "text": [
      "El valor máximo es: 200\n",
      "El valor mínimo es: 94\n",
      "El rango es: 106\n",
      "La desviación estándar es: 17.52\n"
     ]
    }
   ],
   "source": [
    "# Presión arterial en reposo (Trestbps)\n",
    "maximo_trestbps = df['trestbps'].max()\n",
    "minimo_trestbps = df['trestbps'].min()\n",
    "\n",
    "print(f\"El valor máximo es: {maximo_trestbps}\")\n",
    "print(f\"El valor mínimo es: {minimo_trestbps}\")\n",
    "print(f\"El rango es: {maximo_trestbps - minimo_trestbps}\")\n",
    "print(f\"La desviación estándar es: {round(df['trestbps'].std(), 2)}\")"
   ]
  },
  {
   "cell_type": "code",
   "execution_count": 39,
   "metadata": {},
   "outputs": [
    {
     "name": "stdout",
     "output_type": "stream",
     "text": [
      "El valor máximo es: 564\n",
      "El valor mínimo es: 126\n",
      "El rango es: 438\n",
      "La desviación estándar es: 51.59\n"
     ]
    }
   ],
   "source": [
    "# Colesterol sérico en mg/dl (Chol)\n",
    "maximo_chol = df['chol'].max()\n",
    "minimo_chol = df['chol'].min()\n",
    "\n",
    "print(f\"El valor máximo es: {maximo_chol}\")\n",
    "print(f\"El valor mínimo es: {minimo_chol}\")\n",
    "print(f\"El rango es: {maximo_chol - minimo_chol}\")\n",
    "print(f\"La desviación estándar es: {round(df['chol'].std(), 2)}\")"
   ]
  },
  {
   "cell_type": "code",
   "execution_count": 40,
   "metadata": {},
   "outputs": [
    {
     "name": "stdout",
     "output_type": "stream",
     "text": [
      "El valor máximo es: 1\n",
      "El valor mínimo es: 0\n",
      "El rango es: 1\n",
      "La desviación estándar es: 0.36\n"
     ]
    }
   ],
   "source": [
    "# Glucemia en ayunas (Fbs)\n",
    "maximo_fbs = df['fbs'].max()\n",
    "minimo_fbs = df['fbs'].min()\n",
    "\n",
    "print(f\"El valor máximo es: {maximo_fbs}\")\n",
    "print(f\"El valor mínimo es: {minimo_fbs}\")\n",
    "print(f\"El rango es: {maximo_fbs - minimo_fbs}\")\n",
    "print(f\"La desviación estándar es: {round(df['fbs'].std(), 2)}\")"
   ]
  },
  {
   "cell_type": "code",
   "execution_count": 41,
   "metadata": {},
   "outputs": [
    {
     "name": "stdout",
     "output_type": "stream",
     "text": [
      "El valor máximo es: 2\n",
      "El valor mínimo es: 0\n",
      "El rango es: 2\n",
      "La desviación estándar es: 0.53\n"
     ]
    }
   ],
   "source": [
    "# Resultados electrocardiográficos en reposo (Restecg)\n",
    "maximo_restecg = df['restecg'].max()\n",
    "minimo_restecg = df['restecg'].min()\n",
    "\n",
    "print(f\"El valor máximo es: {maximo_restecg}\")\n",
    "print(f\"El valor mínimo es: {minimo_restecg}\")\n",
    "print(f\"El rango es: {maximo_restecg - minimo_restecg}\")\n",
    "print(f\"La desviación estándar es: {round(df['restecg'].std(), 2)}\")"
   ]
  },
  {
   "cell_type": "code",
   "execution_count": 42,
   "metadata": {},
   "outputs": [
    {
     "name": "stdout",
     "output_type": "stream",
     "text": [
      "El valor máximo es: 202\n",
      "El valor mínimo es: 71\n",
      "El rango es: 131\n",
      "La desviación estándar es: 23.01\n"
     ]
    }
   ],
   "source": [
    "# Frecuencia cardíaca máxima alcanzada (Thalach)\n",
    "maximo_thalach = df['thalach'].max()\n",
    "minimo_thalach = df['thalach'].min()\n",
    "\n",
    "print(f\"El valor máximo es: {maximo_thalach}\")\n",
    "print(f\"El valor mínimo es: {minimo_thalach}\")\n",
    "print(f\"El rango es: {maximo_thalach - minimo_thalach}\")\n",
    "print(f\"La desviación estándar es: {round(df['thalach'].std(), 2)}\")"
   ]
  },
  {
   "cell_type": "code",
   "execution_count": 43,
   "metadata": {},
   "outputs": [
    {
     "name": "stdout",
     "output_type": "stream",
     "text": [
      "El valor máximo es: 1\n",
      "El valor mínimo es: 0\n",
      "El rango es: 1\n",
      "La desviación estándar es: 0.47\n"
     ]
    }
   ],
   "source": [
    "# Angina inducida por ejercicio (Exang)\n",
    "maximo_exang = df['exang'].max()\n",
    "minimo_exang = df['exang'].min()\n",
    "\n",
    "print(f\"El valor máximo es: {maximo_exang}\")\n",
    "print(f\"El valor mínimo es: {minimo_exang}\")\n",
    "print(f\"El rango es: {maximo_exang - minimo_exang}\")\n",
    "print(f\"La desviación estándar es: {round(df['exang'].std(), 2)}\")"
   ]
  },
  {
   "cell_type": "code",
   "execution_count": 44,
   "metadata": {},
   "outputs": [
    {
     "name": "stdout",
     "output_type": "stream",
     "text": [
      "El valor máximo es: 6.2\n",
      "El valor mínimo es: 0.0\n",
      "El rango es: 6.2\n",
      "La desviación estándar es: 1.18\n"
     ]
    }
   ],
   "source": [
    "# Depresión del ST inducida por el ejercicio en relación con el descanso (Oldpeak)\n",
    "maximo_oldpeak = df['oldpeak'].max()\n",
    "minimo_oldpeak = df['oldpeak'].min()\n",
    "\n",
    "print(f\"El valor máximo es: {maximo_oldpeak}\")\n",
    "print(f\"El valor mínimo es: {minimo_oldpeak}\")\n",
    "print(f\"El rango es: {maximo_oldpeak - minimo_oldpeak}\")\n",
    "print(f\"La desviación estándar es: {round(df['oldpeak'].std(), 2)}\")"
   ]
  },
  {
   "cell_type": "code",
   "execution_count": 45,
   "metadata": {},
   "outputs": [
    {
     "name": "stdout",
     "output_type": "stream",
     "text": [
      "El valor máximo es: 2\n",
      "El valor mínimo es: 0\n",
      "El rango es: 2\n",
      "La desviación estándar es: 0.62\n"
     ]
    }
   ],
   "source": [
    "# La pendiente del segmento ST de ejercicio pico (Slope)\n",
    "maximo_slope = df['slope'].max()\n",
    "minimo_slope = df['slope'].min()\n",
    "\n",
    "print(f\"El valor máximo es: {maximo_slope}\")\n",
    "print(f\"El valor mínimo es: {minimo_slope}\")\n",
    "print(f\"El rango es: {maximo_slope - minimo_slope}\")\n",
    "print(f\"La desviación estándar es: {round(df['slope'].std(), 2)}\")"
   ]
  },
  {
   "cell_type": "code",
   "execution_count": 46,
   "metadata": {},
   "outputs": [
    {
     "name": "stdout",
     "output_type": "stream",
     "text": [
      "El valor máximo es: 4\n",
      "El valor mínimo es: 0\n",
      "El rango es: 4\n",
      "La desviación estándar es: 1.03\n"
     ]
    }
   ],
   "source": [
    "# Número de vasos importantes (Ca)\n",
    "maximo_ca = df['ca'].max()\n",
    "minimo_ca = df['ca'].min()\n",
    "\n",
    "print(f\"El valor máximo es: {maximo_ca}\")\n",
    "print(f\"El valor mínimo es: {minimo_ca}\")\n",
    "print(f\"El rango es: {maximo_ca - minimo_ca}\")\n",
    "print(f\"La desviación estándar es: {round(df['ca'].std(), 2)}\")"
   ]
  },
  {
   "cell_type": "code",
   "execution_count": 47,
   "metadata": {},
   "outputs": [
    {
     "name": "stdout",
     "output_type": "stream",
     "text": [
      "El valor máximo es: 3\n",
      "El valor mínimo es: 0\n",
      "El rango es: 3\n",
      "La desviación estándar es: 0.62\n"
     ]
    }
   ],
   "source": [
    "# 0 = normal; 1 = defecto fijo; 2 = defecto reversible (Thal)\n",
    "maximo_thal = df['thal'].max()\n",
    "minimo_thal = df['thal'].min()\n",
    "\n",
    "print(f\"El valor máximo es: {maximo_thal}\")\n",
    "print(f\"El valor mínimo es: {minimo_thal}\")\n",
    "print(f\"El rango es: {maximo_thal - minimo_thal}\")\n",
    "print(f\"La desviación estándar es: {round(df['thal'].std(), 2)}\")"
   ]
  },
  {
   "cell_type": "code",
   "execution_count": 48,
   "metadata": {},
   "outputs": [
    {
     "name": "stdout",
     "output_type": "stream",
     "text": [
      "El valor máximo es: 1\n",
      "El valor mínimo es: 0\n",
      "El rango es: 1\n",
      "La desviación estándar es: 0.5\n"
     ]
    }
   ],
   "source": [
    "# 0 = no tiene cardiopatía; 1 = tiene cardiopatía (Target)\n",
    "maximo_target = df['target'].max()\n",
    "minimo_target = df['target'].min()\n",
    "\n",
    "print(f\"El valor máximo es: {maximo_target}\")\n",
    "print(f\"El valor mínimo es: {minimo_target}\")\n",
    "print(f\"El rango es: {maximo_target - minimo_target}\")\n",
    "print(f\"La desviación estándar es: {round(df['target'].std(), 2)}\")"
   ]
  },
  {
   "cell_type": "markdown",
   "metadata": {},
   "source": [
    "#### Visualizaciones"
   ]
  },
  {
   "cell_type": "code",
   "execution_count": 49,
   "metadata": {},
   "outputs": [
    {
     "name": "stderr",
     "output_type": "stream",
     "text": [
      "C:\\Users\\abdiel\\anaconda3\\lib\\site-packages\\seaborn\\distributions.py:2551: FutureWarning: `distplot` is a deprecated function and will be removed in a future version. Please adapt your code to use either `displot` (a figure-level function with similar flexibility) or `histplot` (an axes-level function for histograms).\n",
      "  warnings.warn(msg, FutureWarning)\n"
     ]
    },
    {
     "data": {
      "image/png": "[encoded data removed]",
      "text/plain": [
       "<Figure size 432x288 with 1 Axes>"
      ]
     },
     "metadata": {
      "needs_background": "light"
     },
     "output_type": "display_data"
    }
   ],
   "source": [
    "# Edad (Age)\n",
    "ax = sns.distplot(df['age'], kde = False, norm_hist=False)"
   ]
  },
  {
   "cell_type": "code",
   "execution_count": 50,
   "metadata": {},
   "outputs": [
    {
     "data": {
      "text/plain": [
       "1    713\n",
       "0    312\n",
       "Name: sex, dtype: int64"
      ]
     },
     "execution_count": 50,
     "metadata": {},
     "output_type": "execute_result"
    }
   ],
   "source": [
    "# Sexo (Sex)\n",
    "sexo = df['sex'].value_counts()\n",
    "sexo"
   ]
  },
  {
   "cell_type": "code",
   "execution_count": 51,
   "metadata": {},
   "outputs": [
    {
     "name": "stderr",
     "output_type": "stream",
     "text": [
      "C:\\Users\\abdiel\\anaconda3\\lib\\site-packages\\seaborn\\_decorators.py:36: FutureWarning: Pass the following variables as keyword args: x, y. From version 0.12, the only valid positional argument will be `data`, and passing other arguments without an explicit keyword will result in an error or misinterpretation.\n",
      "  warnings.warn(\n"
     ]
    },
    {
     "data": {
      "image/png": "[encoded data removed]",
      "text/plain": [
       "<Figure size 432x288 with 1 Axes>"
      ]
     },
     "metadata": {
      "needs_background": "light"
     },
     "output_type": "display_data"
    }
   ],
   "source": [
    "# Gráfica de barras de sexo\n",
    "ax = sns.barplot(sexo.index, sexo)"
   ]
  },
  {
   "cell_type": "code",
   "execution_count": 52,
   "metadata": {},
   "outputs": [
    {
     "data": {
      "text/plain": [
       "0    497\n",
       "2    284\n",
       "1    167\n",
       "3     77\n",
       "Name: cp, dtype: int64"
      ]
     },
     "execution_count": 52,
     "metadata": {},
     "output_type": "execute_result"
    }
   ],
   "source": [
    "# Tipo de dolor de pecho (Cp)\n",
    "cp = df['cp'].value_counts()\n",
    "cp"
   ]
  },
  {
   "cell_type": "code",
   "execution_count": 53,
   "metadata": {},
   "outputs": [
    {
     "name": "stderr",
     "output_type": "stream",
     "text": [
      "C:\\Users\\abdiel\\anaconda3\\lib\\site-packages\\seaborn\\_decorators.py:36: FutureWarning: Pass the following variables as keyword args: x, y. From version 0.12, the only valid positional argument will be `data`, and passing other arguments without an explicit keyword will result in an error or misinterpretation.\n",
      "  warnings.warn(\n"
     ]
    },
    {
     "data": {
      "image/png": "[encoded data removed]",
      "text/plain": [
       "<Figure size 432x288 with 1 Axes>"
      ]
     },
     "metadata": {
      "needs_background": "light"
     },
     "output_type": "display_data"
    }
   ],
   "source": [
    "# Gráfica de barras de tipo de dolor de pecho\n",
    "ax = sns.barplot(cp.index, cp)"
   ]
  },
  {
   "cell_type": "code",
   "execution_count": 54,
   "metadata": {},
   "outputs": [
    {
     "name": "stderr",
     "output_type": "stream",
     "text": [
      "C:\\Users\\abdiel\\anaconda3\\lib\\site-packages\\seaborn\\distributions.py:2551: FutureWarning: `distplot` is a deprecated function and will be removed in a future version. Please adapt your code to use either `displot` (a figure-level function with similar flexibility) or `histplot` (an axes-level function for histograms).\n",
      "  warnings.warn(msg, FutureWarning)\n"
     ]
    },
    {
     "data": {
      "image/png": "[encoded data removed]",
      "text/plain": [
       "<Figure size 432x288 with 1 Axes>"
      ]
     },
     "metadata": {
      "needs_background": "light"
     },
     "output_type": "display_data"
    }
   ],
   "source": [
    "# Presión arterial en reposo (Trestbps)\n",
    "ax = sns.distplot(df['trestbps'], kde = False, norm_hist=False)"
   ]
  },
  {
   "cell_type": "code",
   "execution_count": 55,
   "metadata": {},
   "outputs": [
    {
     "data": {
      "image/png": "[encoded data removed]",
      "text/plain": [
       "<Figure size 432x288 with 1 Axes>"
      ]
     },
     "metadata": {
      "needs_background": "light"
     },
     "output_type": "display_data"
    }
   ],
   "source": [
    "# Colesterol sérico en mg/dl (Chol)\n",
    "ax = sns.distplot(df['chol'], kde = False, norm_hist=False)"
   ]
  },
  {
   "cell_type": "code",
   "execution_count": 56,
   "metadata": {},
   "outputs": [
    {
     "data": {
      "text/plain": [
       "0    872\n",
       "1    153\n",
       "Name: fbs, dtype: int64"
      ]
     },
     "execution_count": 56,
     "metadata": {},
     "output_type": "execute_result"
    }
   ],
   "source": [
    "# Glucemia en ayunas (Fbs)\n",
    "fbs = df['fbs'].value_counts()\n",
    "fbs"
   ]
  },
  {
   "cell_type": "code",
   "execution_count": 57,
   "metadata": {},
   "outputs": [
    {
     "name": "stderr",
     "output_type": "stream",
     "text": [
      "C:\\Users\\abdiel\\anaconda3\\lib\\site-packages\\seaborn\\_decorators.py:36: FutureWarning: Pass the following variables as keyword args: x, y. From version 0.12, the only valid positional argument will be `data`, and passing other arguments without an explicit keyword will result in an error or misinterpretation.\n",
      "  warnings.warn(\n"
     ]
    },
    {
     "data": {
      "image/png": "[encoded data removed]",
      "text/plain": [
       "<Figure size 432x288 with 1 Axes>"
      ]
     },
     "metadata": {
      "needs_background": "light"
     },
     "output_type": "display_data"
    }
   ],
   "source": [
    "# Gráfica de barras de glucemia en ayunas\n",
    "ax = sns.barplot(fbs.index, fbs)"
   ]
  },
  {
   "cell_type": "code",
   "execution_count": 58,
   "metadata": {},
   "outputs": [
    {
     "data": {
      "text/plain": [
       "1    513\n",
       "0    497\n",
       "2     15\n",
       "Name: restecg, dtype: int64"
      ]
     },
     "execution_count": 58,
     "metadata": {},
     "output_type": "execute_result"
    }
   ],
   "source": [
    "# Resultados electrocardiográficos en reposo (Restecg)\n",
    "restecg = df['restecg'].value_counts()\n",
    "restecg"
   ]
  },
  {
   "cell_type": "code",
   "execution_count": 59,
   "metadata": {},
   "outputs": [
    {
     "name": "stderr",
     "output_type": "stream",
     "text": [
      "C:\\Users\\abdiel\\anaconda3\\lib\\site-packages\\seaborn\\_decorators.py:36: FutureWarning: Pass the following variables as keyword args: x, y. From version 0.12, the only valid positional argument will be `data`, and passing other arguments without an explicit keyword will result in an error or misinterpretation.\n",
      "  warnings.warn(\n"
     ]
    },
    {
     "data": {
      "image/png": "[encoded data removed]",
      "text/plain": [
       "<Figure size 432x288 with 1 Axes>"
      ]
     },
     "metadata": {
      "needs_background": "light"
     },
     "output_type": "display_data"
    }
   ],
   "source": [
    "# Gráfica de barras de resultados electrocardiográficos en reposo\n",
    "ax = sns.barplot(restecg.index, restecg)"
   ]
  },
  {
   "cell_type": "code",
   "execution_count": 60,
   "metadata": {},
   "outputs": [
    {
     "name": "stderr",
     "output_type": "stream",
     "text": [
      "C:\\Users\\abdiel\\anaconda3\\lib\\site-packages\\seaborn\\distributions.py:2551: FutureWarning: `distplot` is a deprecated function and will be removed in a future version. Please adapt your code to use either `displot` (a figure-level function with similar flexibility) or `histplot` (an axes-level function for histograms).\n",
      "  warnings.warn(msg, FutureWarning)\n"
     ]
    },
    {
     "data": {
      "image/png": "[encoded data removed]",
      "text/plain": [
       "<Figure size 432x288 with 1 Axes>"
      ]
     },
     "metadata": {
      "needs_background": "light"
     },
     "output_type": "display_data"
    }
   ],
   "source": [
    "# Frecuencia cardíaca máxima alcanzada (Thalach)\n",
    "ax = sns.distplot(df['thalach'], kde = False, norm_hist=False)"
   ]
  },
  {
   "cell_type": "code",
   "execution_count": 61,
   "metadata": {},
   "outputs": [
    {
     "data": {
      "text/plain": [
       "0    680\n",
       "1    345\n",
       "Name: exang, dtype: int64"
      ]
     },
     "execution_count": 61,
     "metadata": {},
     "output_type": "execute_result"
    }
   ],
   "source": [
    "# Angina inducida por ejercicio (Exang)\n",
    "exang = df['exang'].value_counts()\n",
    "exang"
   ]
  },
  {
   "cell_type": "code",
   "execution_count": 62,
   "metadata": {},
   "outputs": [
    {
     "name": "stderr",
     "output_type": "stream",
     "text": [
      "C:\\Users\\abdiel\\anaconda3\\lib\\site-packages\\seaborn\\_decorators.py:36: FutureWarning: Pass the following variables as keyword args: x, y. From version 0.12, the only valid positional argument will be `data`, and passing other arguments without an explicit keyword will result in an error or misinterpretation.\n",
      "  warnings.warn(\n"
     ]
    },
    {
     "data": {
      "image/png": "[encoded data removed]",
      "text/plain": [
       "<Figure size 432x288 with 1 Axes>"
      ]
     },
     "metadata": {
      "needs_background": "light"
     },
     "output_type": "display_data"
    }
   ],
   "source": [
    "# Gráfica de barras de angina inducida por ejercicio\n",
    "ax = sns.barplot(exang.index, exang)"
   ]
  },
  {
   "cell_type": "code",
   "execution_count": 63,
   "metadata": {},
   "outputs": [
    {
     "name": "stderr",
     "output_type": "stream",
     "text": [
      "C:\\Users\\abdiel\\anaconda3\\lib\\site-packages\\seaborn\\distributions.py:2551: FutureWarning: `distplot` is a deprecated function and will be removed in a future version. Please adapt your code to use either `displot` (a figure-level function with similar flexibility) or `histplot` (an axes-level function for histograms).\n",
      "  warnings.warn(msg, FutureWarning)\n"
     ]
    },
    {
     "data": {
      "image/png": "[encoded data removed]",
      "text/plain": [
       "<Figure size 432x288 with 1 Axes>"
      ]
     },
     "metadata": {
      "needs_background": "light"
     },
     "output_type": "display_data"
    }
   ],
   "source": [
    "# Depresión del ST inducida por el ejercicio en relación con el descanso (Oldpeak)\n",
    "ax = sns.distplot(df['oldpeak'], kde = False, norm_hist=False)"
   ]
  },
  {
   "cell_type": "code",
   "execution_count": 64,
   "metadata": {},
   "outputs": [
    {
     "data": {
      "text/plain": [
       "1    482\n",
       "2    469\n",
       "0     74\n",
       "Name: slope, dtype: int64"
      ]
     },
     "execution_count": 64,
     "metadata": {},
     "output_type": "execute_result"
    }
   ],
   "source": [
    "# La pendiente del segmento ST de ejercicio pico (Slope)\n",
    "slope = df['slope'].value_counts()\n",
    "slope"
   ]
  },
  {
   "cell_type": "code",
   "execution_count": 65,
   "metadata": {},
   "outputs": [
    {
     "name": "stderr",
     "output_type": "stream",
     "text": [
      "C:\\Users\\abdiel\\anaconda3\\lib\\site-packages\\seaborn\\_decorators.py:36: FutureWarning: Pass the following variables as keyword args: x, y. From version 0.12, the only valid positional argument will be `data`, and passing other arguments without an explicit keyword will result in an error or misinterpretation.\n",
      "  warnings.warn(\n"
     ]
    },
    {
     "data": {
      "image/png": "[encoded data removed]",
      "text/plain": [
       "<Figure size 432x288 with 1 Axes>"
      ]
     },
     "metadata": {
      "needs_background": "light"
     },
     "output_type": "display_data"
    }
   ],
   "source": [
    "# Gráfica de barras de la pendiente del segmento ST de ejercicio pico\n",
    "ax = sns.barplot(slope.index, slope)"
   ]
  },
  {
   "cell_type": "code",
   "execution_count": 66,
   "metadata": {},
   "outputs": [
    {
     "data": {
      "text/plain": [
       "0    578\n",
       "1    226\n",
       "2    134\n",
       "3     69\n",
       "4     18\n",
       "Name: ca, dtype: int64"
      ]
     },
     "execution_count": 66,
     "metadata": {},
     "output_type": "execute_result"
    }
   ],
   "source": [
    "# Número de vasos importantes (Ca)\n",
    "ca = df['ca'].value_counts()\n",
    "ca"
   ]
  },
  {
   "cell_type": "code",
   "execution_count": 67,
   "metadata": {},
   "outputs": [
    {
     "name": "stderr",
     "output_type": "stream",
     "text": [
      "C:\\Users\\abdiel\\anaconda3\\lib\\site-packages\\seaborn\\_decorators.py:36: FutureWarning: Pass the following variables as keyword args: x, y. From version 0.12, the only valid positional argument will be `data`, and passing other arguments without an explicit keyword will result in an error or misinterpretation.\n",
      "  warnings.warn(\n"
     ]
    },
    {
     "data": {
      "image/png": "[encoded data removed]",
      "text/plain": [
       "<Figure size 432x288 with 1 Axes>"
      ]
     },
     "metadata": {
      "needs_background": "light"
     },
     "output_type": "display_data"
    }
   ],
   "source": [
    "# Gráfica de barras del número de vasos importantes\n",
    "ax = sns.barplot(ca.index, ca)"
   ]
  },
  {
   "cell_type": "code",
   "execution_count": 68,
   "metadata": {},
   "outputs": [
    {
     "data": {
      "text/plain": [
       "2    544\n",
       "3    410\n",
       "1     64\n",
       "0      7\n",
       "Name: thal, dtype: int64"
      ]
     },
     "execution_count": 68,
     "metadata": {},
     "output_type": "execute_result"
    }
   ],
   "source": [
    "# 0 = normal; 1 = defecto fijo; 2 = defecto reversible (Thal)\n",
    "thal = df['thal'].value_counts()\n",
    "thal"
   ]
  },
  {
   "cell_type": "code",
   "execution_count": 69,
   "metadata": {},
   "outputs": [
    {
     "name": "stderr",
     "output_type": "stream",
     "text": [
      "C:\\Users\\abdiel\\anaconda3\\lib\\site-packages\\seaborn\\_decorators.py:36: FutureWarning: Pass the following variables as keyword args: x, y. From version 0.12, the only valid positional argument will be `data`, and passing other arguments without an explicit keyword will result in an error or misinterpretation.\n",
      "  warnings.warn(\n"
     ]
    },
    {
     "data": {
      "image/png": "[encoded data removed]",
      "text/plain": [
       "<Figure size 432x288 with 1 Axes>"
      ]
     },
     "metadata": {
      "needs_background": "light"
     },
     "output_type": "display_data"
    }
   ],
   "source": [
    "# Gráfica de barras de thal\n",
    "ax = sns.barplot(thal.index, thal)"
   ]
  },
  {
   "cell_type": "code",
   "execution_count": 70,
   "metadata": {},
   "outputs": [
    {
     "data": {
      "text/plain": [
       "1    526\n",
       "0    499\n",
       "Name: target, dtype: int64"
      ]
     },
     "execution_count": 70,
     "metadata": {},
     "output_type": "execute_result"
    }
   ],
   "source": [
    "# 0 = no tiene cardiopatía; 1 = tiene cardiopatía (Target)\n",
    "target = df['target'].value_counts()\n",
    "target"
   ]
  },
  {
   "cell_type": "code",
   "execution_count": 71,
   "metadata": {},
   "outputs": [
    {
     "name": "stderr",
     "output_type": "stream",
     "text": [
      "C:\\Users\\abdiel\\anaconda3\\lib\\site-packages\\seaborn\\_decorators.py:36: FutureWarning: Pass the following variables as keyword args: x, y. From version 0.12, the only valid positional argument will be `data`, and passing other arguments without an explicit keyword will result in an error or misinterpretation.\n",
      "  warnings.warn(\n"
     ]
    },
    {
     "data": {
      "image/png": "[encoded data removed]",
      "text/plain": [
       "<Figure size 432x288 with 1 Axes>"
      ]
     },
     "metadata": {
      "needs_background": "light"
     },
     "output_type": "display_data"
    }
   ],
   "source": [
    "# Gráfica de barras de target\n",
    "ax = sns.barplot(target.index, target)"
   ]
  },
  {
   "cell_type": "markdown",
   "metadata": {},
   "source": [
    "#### Correlaciones"
   ]
  },
  {
   "cell_type": "code",
   "execution_count": 72,
   "metadata": {},
   "outputs": [
    {
     "data": {
      "image/png": "[encoded data removed]",
      "text/plain": [
       "<Figure size 720x720 with 2 Axes>"
      ]
     },
     "metadata": {
      "needs_background": "light"
     },
     "output_type": "display_data"
    }
   ],
   "source": [
    "corr_heart = df.corr(method = 'spearman')\n",
    "fig, ax = plt.subplots(figsize=(10, 10))\n",
    "sns.heatmap(corr_heart, annot = True, fmt=\".3f\").set_title(\"Heart Disease\")\n",
    "plt.show()"
   ]
  },
  {
   "cell_type": "markdown",
   "metadata": {},
   "source": [
    "## Machine Learning"
   ]
  },
  {
   "cell_type": "markdown",
   "metadata": {},
   "source": [
    "Explicar que estará basado más que nada en clasificaciones"
   ]
  },
  {
   "cell_type": "markdown",
   "metadata": {},
   "source": [
    "### Estandarización de variables"
   ]
  },
  {
   "cell_type": "code",
   "execution_count": 192,
   "metadata": {},
   "outputs": [
    {
     "name": "stdout",
     "output_type": "stream",
     "text": [
      "     count  mean  std   min   25%   50%   75%   max\n",
      "0   1025.0   0.0  1.0 -2.50 -0.74  0.13  0.71  2.74\n",
      "1   1025.0  -0.0  1.0 -1.51 -1.51  0.66  0.66  0.66\n",
      "2   1025.0  -0.0  1.0 -0.99 -0.99  0.43  1.08  1.48\n",
      "3   1025.0   0.0  1.0 -2.83 -0.62  0.02  0.58  2.89\n",
      "4   1025.0   0.0  1.0 -3.28 -0.65 -0.01  0.66  4.01\n",
      "5   1025.0   0.0  1.0 -0.42 -0.42 -0.42 -0.42  2.39\n",
      "6   1025.0  -0.0  1.0 -1.02 -1.02  0.93  0.93  2.04\n",
      "7   1025.0   0.0  1.0 -2.58 -0.81  0.04  0.72  2.80\n",
      "8   1025.0  -0.0  1.0 -0.71 -0.71 -0.71  1.40  1.40\n",
      "9   1025.0  -0.0  1.0 -1.17 -1.17  0.13  0.90  2.12\n",
      "10  1025.0   0.0  1.0 -1.96 -0.71 -0.71  1.03  1.03\n",
      "11  1025.0   0.0  1.0 -0.86 -0.86 -0.86  0.82  1.67\n",
      "12  1025.0  -0.0  1.0 -2.77 -0.60 -0.60  1.15  1.15\n",
      "13  1025.0   0.0  1.0 -1.03 -1.03  0.97  0.97  0.97\n"
     ]
    }
   ],
   "source": [
    "ss = PowerTransformer()\n",
    "X_scaled = ss.fit_transform(df)\n",
    "\n",
    "df_scaled = pd.DataFrame(X_scaled)\n",
    "print(df_scaled.describe().T.round(2))"
   ]
  },
  {
   "cell_type": "code",
   "execution_count": 193,
   "metadata": {},
   "outputs": [
    {
     "data": {
      "image/png": "[encoded data removed]",
      "text/plain": [
       "<Figure size 1440x720 with 14 Axes>"
      ]
     },
     "metadata": {
      "needs_background": "light"
     },
     "output_type": "display_data"
    }
   ],
   "source": [
    "fig, ax = plt.subplots(ncols=7, nrows=2, figsize=(20,10))\n",
    "index = 0\n",
    "ax = ax.flatten()\n",
    "\n",
    "for col, value in df_scaled.items():\n",
    "    sns.distplot(value, color='g', ax=ax[index])\n",
    "    index += 1\n",
    "plt.tight_layout(pad=0.5, w_pad=0.7, h_pad=5.0)\n",
    "plt.show()"
   ]
  },
  {
   "cell_type": "markdown",
   "metadata": {},
   "source": [
    "### Separación, validación y evaluación"
   ]
  },
  {
   "cell_type": "code",
   "execution_count": 194,
   "metadata": {},
   "outputs": [
    {
     "name": "stdout",
     "output_type": "stream",
     "text": [
      "X_train shape: 615\n",
      "y_train shape: 615\n",
      "X_test shape:410\n",
      "y_test shape:410\n"
     ]
    }
   ],
   "source": [
    "X_train, X_test, y_train, y_test = train_test_split(X_scaled, df['target'], test_size = 0.4, random_state = 22)\n",
    "\n",
    "print(\"X_train shape: \"+str(X_train.shape[0]), \"y_train shape: \"+str(y_train.shape[0]), sep = \"\\n\")\n",
    "print(\"X_test shape:\"+str(X_test.shape[0]), \"y_test shape:\"+str(y_test.shape[0]), sep = \"\\n\")"
   ]
  },
  {
   "cell_type": "markdown",
   "metadata": {},
   "source": [
    "### Clúster por vecinos más cercanos"
   ]
  },
  {
   "cell_type": "code",
   "execution_count": 195,
   "metadata": {},
   "outputs": [],
   "source": [
    "# Hiperparámetros\n",
    "n_neighbors = [2, 4, 6, 8, 10, 12, 14, 16, 18, 20]\n",
    "weights = ['uniform', 'distance']\n",
    "metric = ['euclidean', 'manhattan', 'minkowski']\n",
    "\n",
    "param_grid = {\"n_neighbors\": n_neighbors, \"weights\": weights, \"metric\": metric}"
   ]
  },
  {
   "cell_type": "code",
   "execution_count": 196,
   "metadata": {},
   "outputs": [
    {
     "data": {
      "text/plain": [
       "RandomizedSearchCV(cv=10, estimator=KNeighborsClassifier(),\n",
       "                   param_distributions={'metric': ['euclidean', 'manhattan',\n",
       "                                                   'minkowski'],\n",
       "                                        'n_neighbors': [2, 4, 6, 8, 10, 12, 14,\n",
       "                                                        16, 18, 20],\n",
       "                                        'weights': ['uniform', 'distance']})"
      ]
     },
     "execution_count": 196,
     "metadata": {},
     "output_type": "execute_result"
    }
   ],
   "source": [
    "KNN = KNeighborsClassifier() #Genera el modelo\n",
    "KNN_cv = RandomizedSearchCV(KNN, param_grid, cv = 10)\n",
    "KNN_cv.fit(X_train, y_train)   #Entrena el modelo\n",
    "# y_pred_knn = KNN.predict(X_test)   #Genera la predicción"
   ]
  },
  {
   "cell_type": "code",
   "execution_count": 197,
   "metadata": {},
   "outputs": [
    {
     "name": "stdout",
     "output_type": "stream",
     "text": [
      "K vecinos más cercanos con hiperparámetros ajustados: {'weights': 'distance', 'n_neighbors': 8, 'metric': 'euclidean'}\n"
     ]
    }
   ],
   "source": [
    "# Hiperparámetros que generan el mejor modelo\n",
    "print(\"K vecinos más cercanos con hiperparámetros ajustados: {}\".format(KNN_cv.best_params_))"
   ]
  },
  {
   "cell_type": "code",
   "execution_count": 198,
   "metadata": {},
   "outputs": [
    {
     "name": "stdout",
     "output_type": "stream",
     "text": [
      "Precisión del modelo en el subconjunto de entrenamiento: 1.0\n",
      "Precisión del modelo en el subconjunto de prueba: 0.98\n"
     ]
    }
   ],
   "source": [
    "# Evaluación del modelo\n",
    "print(\"Precisión del modelo en el subconjunto de entrenamiento: {}\".format(KNN_cv.best_score_.round(2)))\n",
    "print(\"Precisión del modelo en el subconjunto de prueba: {}\".format(KNN_cv.score(X_test, y_test).round(2)))"
   ]
  },
  {
   "cell_type": "code",
   "execution_count": 199,
   "metadata": {},
   "outputs": [],
   "source": [
    "KNN = KNeighborsClassifier(weights = 'distance', n_neighbors = 8, metric = 'euclidean') #Genera el modelo\n",
    "KNN.fit(X_train, y_train)   #Entrena el modelo\n",
    "y_pred_knn = KNN.predict(X_test)   #Genera la predicción"
   ]
  },
  {
   "cell_type": "code",
   "execution_count": 200,
   "metadata": {},
   "outputs": [
    {
     "name": "stdout",
     "output_type": "stream",
     "text": [
      "Precisión del modelo en el subconjunto de entrenamiento: 1.0\n",
      "Precisión del modelo en el subconjunto de prueba: 0.98\n"
     ]
    }
   ],
   "source": [
    "print(\"Precisión del modelo en el subconjunto de entrenamiento: {}\".format(KNN.score(X_train, y_train).round(2)))\n",
    "print(\"Precisión del modelo en el subconjunto de prueba: {}\".format(KNN.score(X_test, y_test).round(2)))"
   ]
  },
  {
   "cell_type": "code",
   "execution_count": 203,
   "metadata": {},
   "outputs": [
    {
     "data": {
      "text/plain": [
       "array([1, 1, 1, 1, 0, 0, 1, 1, 1, 1, 1, 0, 0, 0, 1, 1, 0, 1, 0, 1, 1, 0,\n",
       "       0, 0, 0, 0, 0, 1, 1, 0, 1, 0, 1, 1, 1, 1, 1, 0, 1, 0, 0, 1, 1, 0,\n",
       "       1, 0, 0, 1, 1, 0, 1, 0, 0, 1, 1, 1, 0, 0, 0, 1, 0, 0, 1, 1, 1, 1,\n",
       "       0, 1, 1, 1, 0, 1, 0, 0, 0, 1, 1, 0, 0, 1, 1, 1, 1, 0, 0, 1, 1, 1,\n",
       "       0, 0, 0, 1, 1, 0, 1, 1, 1, 1, 0, 0, 0, 1, 0, 0, 0, 1, 0, 1, 0, 0,\n",
       "       0, 0, 0, 1, 0, 1, 1, 1, 1, 0, 0, 1, 1, 1, 1, 0, 0, 0, 0, 1, 0, 1,\n",
       "       1, 1, 0, 0, 1, 0, 1, 1, 0, 0, 1, 0, 0, 1, 0, 1, 1, 1, 0, 0, 1, 1,\n",
       "       0, 0, 1, 0, 1, 0, 0, 1, 0, 1, 1, 0, 1, 0, 0, 0, 0, 1, 1, 1, 1, 1,\n",
       "       0, 1, 0, 0, 0, 0, 0, 1, 0, 0, 1, 0, 0, 0, 1, 0, 0, 0, 0, 0, 1, 1,\n",
       "       1, 1, 0, 0, 1, 0, 1, 1, 0, 0, 1, 0, 0, 1, 0, 1, 1, 0, 0, 1, 1, 1,\n",
       "       1, 0, 1, 1, 0, 1, 1, 1, 1, 1, 1, 0, 0, 0, 0, 0, 1, 1, 1, 0, 1, 1,\n",
       "       0, 1, 1, 0, 1, 0, 1, 1, 0, 1, 0, 1, 0, 0, 1, 0, 0, 0, 0, 1, 1, 0,\n",
       "       0, 1, 0, 1, 0, 0, 1, 0, 1, 1, 1, 0, 0, 1, 1, 1, 1, 1, 0, 0, 0, 0,\n",
       "       0, 1, 0, 0, 0, 1, 1, 0, 0, 1, 0, 0, 0, 0, 1, 1, 1, 1, 0, 0, 1, 1,\n",
       "       1, 1, 0, 0, 1, 1, 1, 0, 1, 1, 1, 0, 1, 1, 1, 1, 1, 0, 1, 1, 0, 1,\n",
       "       0, 1, 1, 0, 1, 0, 0, 0, 0, 1, 1, 0, 1, 1, 1, 1, 0, 0, 0, 0, 0, 0,\n",
       "       0, 1, 1, 1, 1, 1, 0, 1, 1, 1, 1, 0, 1, 0, 1, 0, 0, 1, 1, 1, 1, 0,\n",
       "       1, 0, 1, 1, 1, 1, 0, 1, 0, 1, 1, 1, 1, 1, 1, 1, 1, 1, 0, 0, 1, 1,\n",
       "       1, 1, 0, 1, 0, 0, 0, 1, 1, 0, 0, 1, 1, 1], dtype=int64)"
      ]
     },
     "execution_count": 203,
     "metadata": {},
     "output_type": "execute_result"
    }
   ],
   "source": [
    "y_pred_knn_curva = KNN.predict(X_test)\n",
    "\n",
    "y_pred_knn_curva"
   ]
  },
  {
   "cell_type": "code",
   "execution_count": 204,
   "metadata": {},
   "outputs": [
    {
     "data": {
      "text/plain": [
       "array([[0., 1.],\n",
       "       [0., 1.],\n",
       "       [0., 1.],\n",
       "       [0., 1.],\n",
       "       [1., 0.],\n",
       "       [1., 0.],\n",
       "       [0., 1.],\n",
       "       [0., 1.],\n",
       "       [0., 1.],\n",
       "       [0., 1.]])"
      ]
     },
     "execution_count": 204,
     "metadata": {},
     "output_type": "execute_result"
    }
   ],
   "source": [
    "y_pred_proba_knn_curva = KNN.predict_proba(X_test)\n",
    "\n",
    "y_pred_proba_knn_curva[:10,:]"
   ]
  },
  {
   "cell_type": "code",
   "execution_count": 206,
   "metadata": {},
   "outputs": [],
   "source": [
    "fpr, tpr, _ = roc_curve(y_test, y_pred_proba_knn_curva[:, 1])\n",
    "roc_auc = auc(fpr, tpr)"
   ]
  },
  {
   "cell_type": "code",
   "execution_count": 207,
   "metadata": {},
   "outputs": [
    {
     "data": {
      "image/png": "[encoded data removed]",
      "text/plain": [
       "<Figure size 432x288 with 1 Axes>"
      ]
     },
     "metadata": {
      "needs_background": "light"
     },
     "output_type": "display_data"
    }
   ],
   "source": [
    "plt.figure()\n",
    "plt.plot(fpr, tpr, color='darkorange',\n",
    "         label='ROC curve (area = %0.2f)' % roc_auc)\n",
    "plt.plot([0, 1], [0, 1], color='navy', linestyle='--')\n",
    "plt.xlim([0.0, 1.0])\n",
    "plt.ylim([0.0, 1.05])\n",
    "plt.xlabel('Proporción Positivos False')\n",
    "plt.ylabel('Proporción Positivos Verdaderos')\n",
    "plt.title('Curva ROC / AUC')\n",
    "plt.legend(loc=\"lower right\")\n",
    "plt.show()"
   ]
  },
  {
   "cell_type": "markdown",
   "metadata": {},
   "source": [
    "### Clasificador ingenuo de Bayes"
   ]
  },
  {
   "cell_type": "code",
   "execution_count": 208,
   "metadata": {},
   "outputs": [],
   "source": [
    "NaiveBayes = GaussianNB()\n",
    "NaiveBayes.fit(X_train, y_train) #Entrena el modelo\n",
    "y_pred_nb = NaiveBayes.predict(X_test) #Genera la predicción"
   ]
  },
  {
   "cell_type": "code",
   "execution_count": 209,
   "metadata": {},
   "outputs": [
    {
     "name": "stdout",
     "output_type": "stream",
     "text": [
      "Precisión del modelo en el subconjunto de entrenamiento: 1.0\n",
      "Precisión del modelo en el subconjunto de prueba: 1.0\n"
     ]
    }
   ],
   "source": [
    "print(\"Precisión del modelo en el subconjunto de entrenamiento: {}\".format(NaiveBayes.score(X_train, y_train).round(2)))\n",
    "print(\"Precisión del modelo en el subconjunto de prueba: {}\".format(NaiveBayes.score(X_test, y_test).round(2)))"
   ]
  },
  {
   "cell_type": "code",
   "execution_count": 210,
   "metadata": {},
   "outputs": [
    {
     "name": "stdout",
     "output_type": "stream",
     "text": [
      "[[190   0]\n",
      " [  0 220]]\n",
      "True positives: 220\n",
      "True negatives: 190\n",
      "False positives: 0\n",
      "False negative: 0\n",
      "Precision:100.0%\n",
      "Sensibilidad:100.0%\n",
      "Especificidad:100.0%\n"
     ]
    }
   ],
   "source": [
    "evaluar(y_test, y_pred_nb)"
   ]
  },
  {
   "cell_type": "code",
   "execution_count": 211,
   "metadata": {},
   "outputs": [
    {
     "data": {
      "text/plain": [
       "array([1, 1, 1, 1, 0, 0, 1, 1, 1, 1, 1, 0, 0, 0, 1, 1, 0, 1, 0, 1, 1, 1,\n",
       "       0, 0, 0, 0, 0, 1, 1, 0, 1, 0, 1, 1, 1, 1, 1, 0, 1, 0, 0, 1, 1, 0,\n",
       "       1, 0, 0, 1, 1, 0, 1, 0, 0, 1, 1, 1, 0, 0, 0, 1, 0, 0, 1, 1, 1, 1,\n",
       "       0, 1, 1, 1, 0, 1, 0, 0, 0, 0, 1, 0, 0, 1, 1, 1, 1, 0, 0, 1, 1, 1,\n",
       "       0, 0, 0, 1, 1, 0, 1, 1, 1, 1, 0, 0, 0, 1, 0, 0, 0, 1, 0, 1, 0, 0,\n",
       "       0, 0, 0, 1, 0, 1, 1, 1, 1, 0, 0, 1, 1, 1, 1, 0, 0, 0, 0, 0, 0, 1,\n",
       "       1, 1, 0, 0, 1, 0, 1, 1, 0, 0, 1, 0, 0, 1, 0, 1, 1, 1, 0, 0, 1, 1,\n",
       "       0, 0, 1, 0, 1, 0, 0, 1, 0, 1, 1, 0, 1, 0, 0, 0, 0, 1, 1, 1, 1, 1,\n",
       "       0, 1, 0, 0, 0, 0, 0, 1, 0, 0, 1, 0, 0, 0, 1, 0, 0, 0, 0, 0, 1, 1,\n",
       "       1, 1, 0, 0, 1, 0, 1, 1, 0, 0, 1, 0, 0, 1, 0, 1, 1, 0, 0, 1, 1, 1,\n",
       "       1, 1, 1, 1, 0, 1, 1, 1, 1, 1, 1, 0, 0, 0, 0, 0, 1, 1, 1, 0, 1, 1,\n",
       "       0, 1, 1, 0, 1, 0, 1, 1, 0, 1, 0, 1, 0, 0, 1, 0, 0, 0, 0, 1, 1, 0,\n",
       "       0, 1, 0, 0, 0, 0, 1, 0, 1, 1, 1, 0, 0, 1, 1, 1, 1, 1, 0, 0, 0, 0,\n",
       "       0, 1, 0, 0, 0, 1, 1, 0, 0, 1, 0, 0, 0, 0, 1, 1, 1, 1, 0, 0, 1, 1,\n",
       "       1, 1, 0, 0, 1, 1, 1, 0, 1, 1, 1, 0, 1, 1, 1, 1, 1, 0, 1, 1, 0, 1,\n",
       "       0, 1, 1, 0, 1, 0, 0, 0, 0, 1, 1, 0, 1, 1, 1, 1, 0, 0, 0, 0, 0, 0,\n",
       "       0, 1, 1, 1, 1, 1, 0, 1, 1, 1, 1, 0, 1, 0, 1, 0, 0, 1, 1, 0, 1, 0,\n",
       "       1, 0, 1, 1, 1, 1, 0, 1, 0, 1, 1, 1, 1, 1, 1, 1, 1, 1, 0, 0, 1, 1,\n",
       "       1, 1, 1, 1, 0, 0, 0, 1, 1, 0, 0, 1, 1, 1], dtype=int64)"
      ]
     },
     "execution_count": 211,
     "metadata": {},
     "output_type": "execute_result"
    }
   ],
   "source": [
    "y_pred_nb_curva = NaiveBayes.predict(X_test)\n",
    "\n",
    "y_pred_nb_curva"
   ]
  },
  {
   "cell_type": "code",
   "execution_count": 212,
   "metadata": {},
   "outputs": [
    {
     "data": {
      "text/plain": [
       "array([[0., 1.],\n",
       "       [0., 1.],\n",
       "       [0., 1.],\n",
       "       [0., 1.],\n",
       "       [1., 0.],\n",
       "       [1., 0.],\n",
       "       [0., 1.],\n",
       "       [0., 1.],\n",
       "       [0., 1.],\n",
       "       [0., 1.]])"
      ]
     },
     "execution_count": 212,
     "metadata": {},
     "output_type": "execute_result"
    }
   ],
   "source": [
    "y_pred_proba_nb_curva = NaiveBayes.predict_proba(X_test)\n",
    "\n",
    "y_pred_proba_nb_curva[:10,:]"
   ]
  },
  {
   "cell_type": "code",
   "execution_count": 213,
   "metadata": {},
   "outputs": [],
   "source": [
    "fpr, tpr, _ = roc_curve(y_test, y_pred_proba_nb_curva[:, 1])\n",
    "roc_auc = auc(fpr, tpr)"
   ]
  },
  {
   "cell_type": "code",
   "execution_count": 214,
   "metadata": {},
   "outputs": [
    {
     "data": {
      "image/png": "[encoded data removed]",
      "text/plain": [
       "<Figure size 432x288 with 1 Axes>"
      ]
     },
     "metadata": {
      "needs_background": "light"
     },
     "output_type": "display_data"
    }
   ],
   "source": [
    "plt.figure()\n",
    "plt.plot(fpr, tpr, color='darkorange',\n",
    "         label='ROC curve (area = %0.2f)' % roc_auc)\n",
    "plt.plot([0, 1], [0, 1], color='navy', linestyle='--')\n",
    "plt.xlim([0.0, 1.0])\n",
    "plt.ylim([0.0, 1.05])\n",
    "plt.xlabel('Proporción Positivos False')\n",
    "plt.ylabel('Proporción Positivos Verdaderos')\n",
    "plt.title('Curva ROC / AUC')\n",
    "plt.legend(loc=\"lower right\")\n",
    "plt.show()"
   ]
  },
  {
   "cell_type": "markdown",
   "metadata": {},
   "source": [
    "### Regresión"
   ]
  },
  {
   "cell_type": "code",
   "execution_count": 236,
   "metadata": {},
   "outputs": [],
   "source": [
    "# Hiperparámetros\n",
    "c_space = np.logspace(-5, 20, 15)\n",
    "penalty = ['none', 'l1', 'l2', 'elasticnet']\n",
    "param_grid = {\"C\": c_space, \"penalty\": penalty}\n",
    "\n",
    "# Instancia del modelo\n",
    "LogisticRegression = LogisticRegression()"
   ]
  },
  {
   "cell_type": "code",
   "execution_count": 237,
   "metadata": {},
   "outputs": [
    {
     "data": {
      "text/plain": [
       "RandomizedSearchCV(cv=10, estimator=LogisticRegression(),\n",
       "                   param_distributions={'C': array([1.00000000e-05, 6.10540230e-04, 3.72759372e-02, 2.27584593e+00,\n",
       "       1.38949549e+02, 8.48342898e+03, 5.17947468e+05, 3.16227766e+07,\n",
       "       1.93069773e+09, 1.17876863e+11, 7.19685673e+12, 4.39397056e+14,\n",
       "       2.68269580e+16, 1.63789371e+18, 1.00000000e+20]),\n",
       "                                        'penalty': ['none', 'l1', 'l2',\n",
       "                                                    'elasticnet']})"
      ]
     },
     "execution_count": 237,
     "metadata": {},
     "output_type": "execute_result"
    }
   ],
   "source": [
    "# Ajusta de hiperparámetros y entrenamiento\n",
    "LogisticRegression_cv = RandomizedSearchCV(LogisticRegression, param_grid, cv = 10)\n",
    "LogisticRegression_cv.fit(X_train, y_train)"
   ]
  },
  {
   "cell_type": "code",
   "execution_count": 238,
   "metadata": {},
   "outputs": [
    {
     "name": "stdout",
     "output_type": "stream",
     "text": [
      "Regresión logística con hiperparámetros ajustados: {'penalty': 'l2', 'C': 1930697728.8832536}\n"
     ]
    }
   ],
   "source": [
    "# Hiperparámetros que generan el mejor modelo\n",
    "print(\"Regresión logística con hiperparámetros ajustados: {}\".format(LogisticRegression_cv.best_params_))"
   ]
  },
  {
   "cell_type": "code",
   "execution_count": 239,
   "metadata": {},
   "outputs": [
    {
     "name": "stdout",
     "output_type": "stream",
     "text": [
      "Precisión del modelo en el subconjunto de entrenamiento: 1.0\n",
      "Precisión del modelo en el subconjunto de prueba: 1.0\n"
     ]
    }
   ],
   "source": [
    "# Evaluación del modelo\n",
    "print(\"Precisión del modelo en el subconjunto de entrenamiento: {}\".format(LogisticRegression_cv.best_score_.round(2)))\n",
    "print(\"Precisión del modelo en el subconjunto de prueba: {}\".format(LogisticRegression_cv.score(X_test, y_test).round(2)))"
   ]
  },
  {
   "cell_type": "code",
   "execution_count": 242,
   "metadata": {},
   "outputs": [],
   "source": [
    "# Sirve en esencia para clasificaciones binarias\n",
    "LogisticRegression = LogisticRegression(penalty = 'none', C = 31622776.60168379)\n",
    "LogisticRegression.fit(X_train, y_train) #Entrena el modelo\n",
    "y_pred_lr = LogisticRegression.predict(X_test) #Genera la predicción"
   ]
  },
  {
   "cell_type": "code",
   "execution_count": 243,
   "metadata": {},
   "outputs": [
    {
     "name": "stdout",
     "output_type": "stream",
     "text": [
      "Precisión del modelo en el subconjunto de entrenamiento: 1.0\n",
      "Precisión del modelo en el subconjunto de prueba: 1.0\n"
     ]
    }
   ],
   "source": [
    "print(\"Precisión del modelo en el subconjunto de entrenamiento: {}\".format(LogisticRegression.score(X_train, y_train).round(2)))\n",
    "print(\"Precisión del modelo en el subconjunto de prueba: {}\".format(LogisticRegression.score(X_test, y_test).round(2)))"
   ]
  },
  {
   "cell_type": "code",
   "execution_count": 244,
   "metadata": {},
   "outputs": [
    {
     "data": {
      "text/plain": [
       "array([1, 1, 1, 1, 0, 0, 1, 1, 1, 1, 1, 0, 0, 0, 1, 1, 0, 1, 0, 1, 1, 1,\n",
       "       0, 0, 0, 0, 0, 1, 1, 0, 1, 0, 1, 1, 1, 1, 1, 0, 1, 0, 0, 1, 1, 0,\n",
       "       1, 0, 0, 1, 1, 0, 1, 0, 0, 1, 1, 1, 0, 0, 0, 1, 0, 0, 1, 1, 1, 1,\n",
       "       0, 1, 1, 1, 0, 1, 0, 0, 0, 0, 1, 0, 0, 1, 1, 1, 1, 0, 0, 1, 1, 1,\n",
       "       0, 0, 0, 1, 1, 0, 1, 1, 1, 1, 0, 0, 0, 1, 0, 0, 0, 1, 0, 1, 0, 0,\n",
       "       0, 0, 0, 1, 0, 1, 1, 1, 1, 0, 0, 1, 1, 1, 1, 0, 0, 0, 0, 0, 0, 1,\n",
       "       1, 1, 0, 0, 1, 0, 1, 1, 0, 0, 1, 0, 0, 1, 0, 1, 1, 1, 0, 0, 1, 1,\n",
       "       0, 0, 1, 0, 1, 0, 0, 1, 0, 1, 1, 0, 1, 0, 0, 0, 0, 1, 1, 1, 1, 1,\n",
       "       0, 1, 0, 0, 0, 0, 0, 1, 0, 0, 1, 0, 0, 0, 1, 0, 0, 0, 0, 0, 1, 1,\n",
       "       1, 1, 0, 0, 1, 0, 1, 1, 0, 0, 1, 0, 0, 1, 0, 1, 1, 0, 0, 1, 1, 1,\n",
       "       1, 1, 1, 1, 0, 1, 1, 1, 1, 1, 1, 0, 0, 0, 0, 0, 1, 1, 1, 0, 1, 1,\n",
       "       0, 1, 1, 0, 1, 0, 1, 1, 0, 1, 0, 1, 0, 0, 1, 0, 0, 0, 0, 1, 1, 0,\n",
       "       0, 1, 0, 0, 0, 0, 1, 0, 1, 1, 1, 0, 0, 1, 1, 1, 1, 1, 0, 0, 0, 0,\n",
       "       0, 1, 0, 0, 0, 1, 1, 0, 0, 1, 0, 0, 0, 0, 1, 1, 1, 1, 0, 0, 1, 1,\n",
       "       1, 1, 0, 0, 1, 1, 1, 0, 1, 1, 1, 0, 1, 1, 1, 1, 1, 0, 1, 1, 0, 1,\n",
       "       0, 1, 1, 0, 1, 0, 0, 0, 0, 1, 1, 0, 1, 1, 1, 1, 0, 0, 0, 0, 0, 0,\n",
       "       0, 1, 1, 1, 1, 1, 0, 1, 1, 1, 1, 0, 1, 0, 1, 0, 0, 1, 1, 0, 1, 0,\n",
       "       1, 0, 1, 1, 1, 1, 0, 1, 0, 1, 1, 1, 1, 1, 1, 1, 1, 1, 0, 0, 1, 1,\n",
       "       1, 1, 1, 1, 0, 0, 0, 1, 1, 0, 0, 1, 1, 1], dtype=int64)"
      ]
     },
     "execution_count": 244,
     "metadata": {},
     "output_type": "execute_result"
    }
   ],
   "source": [
    "y_pred_lr_curva = LogisticRegression.predict(X_test)\n",
    "\n",
    "y_pred_lr_curva"
   ]
  },
  {
   "cell_type": "code",
   "execution_count": 245,
   "metadata": {},
   "outputs": [
    {
     "data": {
      "text/plain": [
       "array([[1.57866135e-07, 9.99999842e-01],\n",
       "       [2.64489419e-07, 9.99999736e-01],\n",
       "       [1.61198160e-07, 9.99999839e-01],\n",
       "       [8.26301166e-08, 9.99999917e-01],\n",
       "       [9.99999930e-01, 7.01156036e-08],\n",
       "       [9.99999985e-01, 1.48003364e-08],\n",
       "       [8.21451666e-08, 9.99999918e-01],\n",
       "       [5.01375023e-08, 9.99999950e-01],\n",
       "       [7.89447363e-08, 9.99999921e-01],\n",
       "       [6.82190491e-08, 9.99999932e-01]])"
      ]
     },
     "execution_count": 245,
     "metadata": {},
     "output_type": "execute_result"
    }
   ],
   "source": [
    "y_pred_proba_lr_curva = LogisticRegression.predict_proba(X_test)\n",
    "\n",
    "y_pred_proba_lr_curva[:10,:]"
   ]
  },
  {
   "cell_type": "code",
   "execution_count": 246,
   "metadata": {},
   "outputs": [],
   "source": [
    "fpr, tpr, _ = roc_curve(y_test, y_pred_proba_lr_curva[:, 1])\n",
    "roc_auc = auc(fpr, tpr)"
   ]
  },
  {
   "cell_type": "code",
   "execution_count": 247,
   "metadata": {},
   "outputs": [
    {
     "data": {
      "image/png": "[encoded data removed]",
      "text/plain": [
       "<Figure size 432x288 with 1 Axes>"
      ]
     },
     "metadata": {
      "needs_background": "light"
     },
     "output_type": "display_data"
    }
   ],
   "source": [
    "plt.figure()\n",
    "plt.plot(fpr, tpr, color='darkorange',\n",
    "         label='ROC curve (area = %0.2f)' % roc_auc)\n",
    "plt.plot([0, 1], [0, 1], color='navy', linestyle='--')\n",
    "plt.xlim([0.0, 1.0])\n",
    "plt.ylim([0.0, 1.05])\n",
    "plt.xlabel('Proporción Positivos False')\n",
    "plt.ylabel('Proporción Positivos Verdaderos')\n",
    "plt.title('Curva ROC / AUC')\n",
    "plt.legend(loc=\"lower right\")\n",
    "plt.show()"
   ]
  },
  {
   "cell_type": "markdown",
   "metadata": {},
   "source": [
    "### Máquina de soporte vectorial"
   ]
  },
  {
   "cell_type": "code",
   "execution_count": 284,
   "metadata": {},
   "outputs": [],
   "source": [
    "# Hiperparámetros\n",
    "param_grid = {'C': np.logspace(-5, 10, 15), 'gamma':[0.01, 0.1, 1, 10]}\n",
    "\n",
    "# Instancia del modelo\n",
    "from sklearn.svm import SVC\n",
    "SVC = SVC()"
   ]
  },
  {
   "cell_type": "code",
   "execution_count": 285,
   "metadata": {},
   "outputs": [
    {
     "data": {
      "text/plain": [
       "RandomizedSearchCV(cv=10, estimator=SVC(),\n",
       "                   param_distributions={'C': array([1.00000000e-05, 1.17876863e-04, 1.38949549e-03, 1.63789371e-02,\n",
       "       1.93069773e-01, 2.27584593e+00, 2.68269580e+01, 3.16227766e+02,\n",
       "       3.72759372e+03, 4.39397056e+04, 5.17947468e+05, 6.10540230e+06,\n",
       "       7.19685673e+07, 8.48342898e+08, 1.00000000e+10]),\n",
       "                                        'gamma': [0.01, 0.1, 1, 10]})"
      ]
     },
     "execution_count": 285,
     "metadata": {},
     "output_type": "execute_result"
    }
   ],
   "source": [
    "# Ajusta de hiperparámetros y entrenamiento\n",
    "SVC_cv = RandomizedSearchCV(SVC, param_grid, cv = 10)\n",
    "SVC_cv.fit(X_train, y_train)"
   ]
  },
  {
   "cell_type": "code",
   "execution_count": 286,
   "metadata": {},
   "outputs": [
    {
     "name": "stdout",
     "output_type": "stream",
     "text": [
      "Máquina de soporte vectorial con hiperparámetros ajustados: {'gamma': 0.1, 'C': 2.2758459260747865}\n"
     ]
    }
   ],
   "source": [
    "# Hiperparámetros que generan el mejor modelo\n",
    "print(\"Máquina de soporte vectorial con hiperparámetros ajustados: {}\".format(SVC_cv.best_params_))"
   ]
  },
  {
   "cell_type": "code",
   "execution_count": 287,
   "metadata": {},
   "outputs": [
    {
     "name": "stdout",
     "output_type": "stream",
     "text": [
      "Precisión del modelo en el subconjunto de entrenamiento: 1.0\n",
      "Precisión del modelo en el subconjunto de prueba: 1.0\n"
     ]
    }
   ],
   "source": [
    "# Evaluación del modelo\n",
    "print(\"Precisión del modelo en el subconjunto de entrenamiento: {}\".format(SVC_cv.best_score_.round(2)))\n",
    "print(\"Precisión del modelo en el subconjunto de prueba: {}\".format(SVC_cv.score(X_test, y_test).round(2)))"
   ]
  },
  {
   "cell_type": "code",
   "execution_count": 290,
   "metadata": {},
   "outputs": [],
   "source": [
    "SVC = SVC(gamma = 0.1, C = 43939.70560760786)\n",
    "SVC.fit(X_train, y_train) #Entrena el modelo\n",
    "y_pred_svc = SVC.predict(X_test) #Genera la predición"
   ]
  },
  {
   "cell_type": "code",
   "execution_count": 291,
   "metadata": {},
   "outputs": [
    {
     "name": "stdout",
     "output_type": "stream",
     "text": [
      "Precisión del modelo en el subconjunto de entrenamiento: 1.0\n",
      "Precisión del modelo en el subconjunto de prueba: 1.0\n"
     ]
    }
   ],
   "source": [
    "print(\"Precisión del modelo en el subconjunto de entrenamiento: {}\".format(SVC.score(X_train, y_train).round(2)))\n",
    "print(\"Precisión del modelo en el subconjunto de prueba: {}\".format(SVC.score(X_test, y_test).round(2)))"
   ]
  },
  {
   "cell_type": "code",
   "execution_count": 292,
   "metadata": {},
   "outputs": [
    {
     "name": "stdout",
     "output_type": "stream",
     "text": [
      "[[190   0]\n",
      " [  0 220]]\n",
      "True positives: 220\n",
      "True negatives: 190\n",
      "False positives: 0\n",
      "False negative: 0\n",
      "Precision:100.0%\n",
      "Sensibilidad:100.0%\n",
      "Especificidad:100.0%\n"
     ]
    }
   ],
   "source": [
    "evaluar(y_test, y_pred_svc)"
   ]
  },
  {
   "cell_type": "code",
   "execution_count": 297,
   "metadata": {},
   "outputs": [
    {
     "data": {
      "text/plain": [
       "array([1, 1, 1, 1, 0, 0, 1, 1, 1, 1, 1, 0, 0, 0, 1, 1, 0, 1, 0, 1, 1, 1,\n",
       "       0, 0, 0, 0, 0, 1, 1, 0, 1, 0, 1, 1, 1, 1, 1, 0, 1, 0, 0, 1, 1, 0,\n",
       "       1, 0, 0, 1, 1, 0, 1, 0, 0, 1, 1, 1, 0, 0, 0, 1, 0, 0, 1, 1, 1, 1,\n",
       "       0, 1, 1, 1, 0, 1, 0, 0, 0, 0, 1, 0, 0, 1, 1, 1, 1, 0, 0, 1, 1, 1,\n",
       "       0, 0, 0, 1, 1, 0, 1, 1, 1, 1, 0, 0, 0, 1, 0, 0, 0, 1, 0, 1, 0, 0,\n",
       "       0, 0, 0, 1, 0, 1, 1, 1, 1, 0, 0, 1, 1, 1, 1, 0, 0, 0, 0, 0, 0, 1,\n",
       "       1, 1, 0, 0, 1, 0, 1, 1, 0, 0, 1, 0, 0, 1, 0, 1, 1, 1, 0, 0, 1, 1,\n",
       "       0, 0, 1, 0, 1, 0, 0, 1, 0, 1, 1, 0, 1, 0, 0, 0, 0, 1, 1, 1, 1, 1,\n",
       "       0, 1, 0, 0, 0, 0, 0, 1, 0, 0, 1, 0, 0, 0, 1, 0, 0, 0, 0, 0, 1, 1,\n",
       "       1, 1, 0, 0, 1, 0, 1, 1, 0, 0, 1, 0, 0, 1, 0, 1, 1, 0, 0, 1, 1, 1,\n",
       "       1, 1, 1, 1, 0, 1, 1, 1, 1, 1, 1, 0, 0, 0, 0, 0, 1, 1, 1, 0, 1, 1,\n",
       "       0, 1, 1, 0, 1, 0, 1, 1, 0, 1, 0, 1, 0, 0, 1, 0, 0, 0, 0, 1, 1, 0,\n",
       "       0, 1, 0, 0, 0, 0, 1, 0, 1, 1, 1, 0, 0, 1, 1, 1, 1, 1, 0, 0, 0, 0,\n",
       "       0, 1, 0, 0, 0, 1, 1, 0, 0, 1, 0, 0, 0, 0, 1, 1, 1, 1, 0, 0, 1, 1,\n",
       "       1, 1, 0, 0, 1, 1, 1, 0, 1, 1, 1, 0, 1, 1, 1, 1, 1, 0, 1, 1, 0, 1,\n",
       "       0, 1, 1, 0, 1, 0, 0, 0, 0, 1, 1, 0, 1, 1, 1, 1, 0, 0, 0, 0, 0, 0,\n",
       "       0, 1, 1, 1, 1, 1, 0, 1, 1, 1, 1, 0, 1, 0, 1, 0, 0, 1, 1, 0, 1, 0,\n",
       "       1, 0, 1, 1, 1, 1, 0, 1, 0, 1, 1, 1, 1, 1, 1, 1, 1, 1, 0, 0, 1, 1,\n",
       "       1, 1, 1, 1, 0, 0, 0, 1, 1, 0, 0, 1, 1, 1], dtype=int64)"
      ]
     },
     "execution_count": 297,
     "metadata": {},
     "output_type": "execute_result"
    }
   ],
   "source": [
    "y_pred_svc_curva = SVC.predict(X_test)\n",
    "\n",
    "y_pred_svc_curva"
   ]
  },
  {
   "cell_type": "code",
   "execution_count": 298,
   "metadata": {},
   "outputs": [
    {
     "ename": "AttributeError",
     "evalue": "predict_proba is not available when  probability=False",
     "output_type": "error",
     "traceback": [
      "\u001b[1;31m---------------------------------------------------------------------------\u001b[0m",
      "\u001b[1;31mAttributeError\u001b[0m                            Traceback (most recent call last)",
      "\u001b[1;32m<ipython-input-298-19d9b0deee86>\u001b[0m in \u001b[0;36m<module>\u001b[1;34m\u001b[0m\n\u001b[1;32m----> 1\u001b[1;33m \u001b[0my_pred_proba_svc_curva\u001b[0m \u001b[1;33m=\u001b[0m \u001b[0mSVC\u001b[0m\u001b[1;33m.\u001b[0m\u001b[0mpredict_proba\u001b[0m\u001b[1;33m(\u001b[0m\u001b[0mX_test\u001b[0m\u001b[1;33m)\u001b[0m\u001b[1;33m\u001b[0m\u001b[1;33m\u001b[0m\u001b[0m\n\u001b[0m\u001b[0;32m      2\u001b[0m \u001b[1;33m\u001b[0m\u001b[0m\n\u001b[0;32m      3\u001b[0m \u001b[0my_pred_proba_svc_curva\u001b[0m\u001b[1;33m[\u001b[0m\u001b[1;33m:\u001b[0m\u001b[1;36m10\u001b[0m\u001b[1;33m,\u001b[0m\u001b[1;33m:\u001b[0m\u001b[1;33m]\u001b[0m\u001b[1;33m\u001b[0m\u001b[1;33m\u001b[0m\u001b[0m\n",
      "\u001b[1;32m~\\anaconda3\\lib\\site-packages\\sklearn\\svm\\_base.py\u001b[0m in \u001b[0;36mpredict_proba\u001b[1;34m(self)\u001b[0m\n\u001b[0;32m    655\u001b[0m         \u001b[0mdatasets\u001b[0m\u001b[1;33m.\u001b[0m\u001b[1;33m\u001b[0m\u001b[1;33m\u001b[0m\u001b[0m\n\u001b[0;32m    656\u001b[0m         \"\"\"\n\u001b[1;32m--> 657\u001b[1;33m         \u001b[0mself\u001b[0m\u001b[1;33m.\u001b[0m\u001b[0m_check_proba\u001b[0m\u001b[1;33m(\u001b[0m\u001b[1;33m)\u001b[0m\u001b[1;33m\u001b[0m\u001b[1;33m\u001b[0m\u001b[0m\n\u001b[0m\u001b[0;32m    658\u001b[0m         \u001b[1;32mreturn\u001b[0m \u001b[0mself\u001b[0m\u001b[1;33m.\u001b[0m\u001b[0m_predict_proba\u001b[0m\u001b[1;33m\u001b[0m\u001b[1;33m\u001b[0m\u001b[0m\n\u001b[0;32m    659\u001b[0m \u001b[1;33m\u001b[0m\u001b[0m\n",
      "\u001b[1;32m~\\anaconda3\\lib\\site-packages\\sklearn\\svm\\_base.py\u001b[0m in \u001b[0;36m_check_proba\u001b[1;34m(self)\u001b[0m\n\u001b[0;32m    622\u001b[0m     \u001b[1;32mdef\u001b[0m \u001b[0m_check_proba\u001b[0m\u001b[1;33m(\u001b[0m\u001b[0mself\u001b[0m\u001b[1;33m)\u001b[0m\u001b[1;33m:\u001b[0m\u001b[1;33m\u001b[0m\u001b[1;33m\u001b[0m\u001b[0m\n\u001b[0;32m    623\u001b[0m         \u001b[1;32mif\u001b[0m \u001b[1;32mnot\u001b[0m \u001b[0mself\u001b[0m\u001b[1;33m.\u001b[0m\u001b[0mprobability\u001b[0m\u001b[1;33m:\u001b[0m\u001b[1;33m\u001b[0m\u001b[1;33m\u001b[0m\u001b[0m\n\u001b[1;32m--> 624\u001b[1;33m             raise AttributeError(\"predict_proba is not available when \"\n\u001b[0m\u001b[0;32m    625\u001b[0m                                  \" probability=False\")\n\u001b[0;32m    626\u001b[0m         \u001b[1;32mif\u001b[0m \u001b[0mself\u001b[0m\u001b[1;33m.\u001b[0m\u001b[0m_impl\u001b[0m \u001b[1;32mnot\u001b[0m \u001b[1;32min\u001b[0m \u001b[1;33m(\u001b[0m\u001b[1;34m'c_svc'\u001b[0m\u001b[1;33m,\u001b[0m \u001b[1;34m'nu_svc'\u001b[0m\u001b[1;33m)\u001b[0m\u001b[1;33m:\u001b[0m\u001b[1;33m\u001b[0m\u001b[1;33m\u001b[0m\u001b[0m\n",
      "\u001b[1;31mAttributeError\u001b[0m: predict_proba is not available when  probability=False"
     ]
    }
   ],
   "source": [
    "y_pred_proba_svc_curva = SVC.predict_proba(X_test)\n",
    "\n",
    "y_pred_proba_svc_curva[:10,:]"
   ]
  },
  {
   "cell_type": "code",
   "execution_count": 299,
   "metadata": {},
   "outputs": [
    {
     "ename": "NameError",
     "evalue": "name 'y_pred_proba_svc_curva' is not defined",
     "output_type": "error",
     "traceback": [
      "\u001b[1;31m---------------------------------------------------------------------------\u001b[0m",
      "\u001b[1;31mNameError\u001b[0m                                 Traceback (most recent call last)",
      "\u001b[1;32m<ipython-input-299-95d0f94cc147>\u001b[0m in \u001b[0;36m<module>\u001b[1;34m\u001b[0m\n\u001b[1;32m----> 1\u001b[1;33m \u001b[0mfpr\u001b[0m\u001b[1;33m,\u001b[0m \u001b[0mtpr\u001b[0m\u001b[1;33m,\u001b[0m \u001b[0m_\u001b[0m \u001b[1;33m=\u001b[0m \u001b[0mroc_curve\u001b[0m\u001b[1;33m(\u001b[0m\u001b[0my_test\u001b[0m\u001b[1;33m,\u001b[0m \u001b[0my_pred_proba_svc_curva\u001b[0m\u001b[1;33m[\u001b[0m\u001b[1;33m:\u001b[0m\u001b[1;33m,\u001b[0m \u001b[1;36m1\u001b[0m\u001b[1;33m]\u001b[0m\u001b[1;33m)\u001b[0m\u001b[1;33m\u001b[0m\u001b[1;33m\u001b[0m\u001b[0m\n\u001b[0m\u001b[0;32m      2\u001b[0m \u001b[0mroc_auc\u001b[0m \u001b[1;33m=\u001b[0m \u001b[0mauc\u001b[0m\u001b[1;33m(\u001b[0m\u001b[0mfpr\u001b[0m\u001b[1;33m,\u001b[0m \u001b[0mtpr\u001b[0m\u001b[1;33m)\u001b[0m\u001b[1;33m\u001b[0m\u001b[1;33m\u001b[0m\u001b[0m\n",
      "\u001b[1;31mNameError\u001b[0m: name 'y_pred_proba_svc_curva' is not defined"
     ]
    }
   ],
   "source": [
    "fpr, tpr, _ = roc_curve(y_test, y_pred_proba_svc_curva[:, 1])\n",
    "roc_auc = auc(fpr, tpr)"
   ]
  },
  {
   "cell_type": "code",
   "execution_count": null,
   "metadata": {},
   "outputs": [],
   "source": [
    "plt.figure()\n",
    "plt.plot(fpr, tpr, color='darkorange',\n",
    "         label='ROC curve (area = %0.2f)' % roc_auc)\n",
    "plt.plot([0, 1], [0, 1], color='navy', linestyle='--')\n",
    "plt.xlim([0.0, 1.0])\n",
    "plt.ylim([0.0, 1.05])\n",
    "plt.xlabel('Proporción Positivos False')\n",
    "plt.ylabel('Proporción Positivos Verdaderos')\n",
    "plt.title('Curva ROC / AUC')\n",
    "plt.legend(loc=\"lower right\")\n",
    "plt.show()"
   ]
  },
  {
   "cell_type": "markdown",
   "metadata": {},
   "source": [
    "### Bosque aleatorio"
   ]
  },
  {
   "cell_type": "code",
   "execution_count": 262,
   "metadata": {},
   "outputs": [],
   "source": [
    "# Hiperparámetros\n",
    "n_estimators = [int(n) for n in np.linspace(100, 1000, 5)]\n",
    "max_depth = [int(d) for d in np.linspace(10, 50, 2)]\n",
    "max_features = [\"sqrt\", \"log2\"]\n",
    "criterion = [\"gini\", \"entropy\"]\n",
    "\n",
    "param_grid = {\"n_estimators\": n_estimators,\n",
    "         \"max_depth\": max_depth,\n",
    "        \"max_features\": max_features,\n",
    "        \"criterion\": criterion}\n",
    "\n",
    "# Instancia del modelo\n",
    "from sklearn.ensemble import RandomForestClassifier\n",
    "RFC = RandomForestClassifier()"
   ]
  },
  {
   "cell_type": "code",
   "execution_count": 263,
   "metadata": {},
   "outputs": [
    {
     "data": {
      "text/plain": [
       "RandomizedSearchCV(cv=10, estimator=RandomForestClassifier(),\n",
       "                   param_distributions={'criterion': ['gini', 'entropy'],\n",
       "                                        'max_depth': [10, 50],\n",
       "                                        'max_features': ['sqrt', 'log2'],\n",
       "                                        'n_estimators': [100, 325, 550, 775,\n",
       "                                                         1000]})"
      ]
     },
     "execution_count": 263,
     "metadata": {},
     "output_type": "execute_result"
    }
   ],
   "source": [
    "# Ajusta de hiperparámetros y entrenamiento\n",
    "RFC_cv = RandomizedSearchCV(RFC, param_grid, cv = 10)\n",
    "RFC_cv.fit(X_train, y_train)"
   ]
  },
  {
   "cell_type": "code",
   "execution_count": 264,
   "metadata": {},
   "outputs": [
    {
     "name": "stdout",
     "output_type": "stream",
     "text": [
      "Bosque aleatorio con hiperparámetros ajustados: {'n_estimators': 775, 'max_features': 'sqrt', 'max_depth': 50, 'criterion': 'gini'}\n"
     ]
    }
   ],
   "source": [
    "# Hiperparámetros que generan el mejor modelo\n",
    "print(\"Bosque aleatorio con hiperparámetros ajustados: {}\".format(RFC_cv.best_params_))"
   ]
  },
  {
   "cell_type": "code",
   "execution_count": 265,
   "metadata": {},
   "outputs": [
    {
     "name": "stdout",
     "output_type": "stream",
     "text": [
      "Precisión del modelo en el subconjunto de entrenamiento: 1.0\n",
      "Precisión del modelo en el subconjunto de prueba: 1.0\n"
     ]
    }
   ],
   "source": [
    "# Evaluación del modelo\n",
    "print(\"Precisión del modelo en el subconjunto de entrenamiento: {}\".format(RFC_cv.best_score_.round(2)))\n",
    "print(\"Precisión del modelo en el subconjunto de prueba: {}\".format(RFC_cv.score(X_test, y_test).round(2)))"
   ]
  },
  {
   "cell_type": "code",
   "execution_count": 266,
   "metadata": {},
   "outputs": [],
   "source": [
    "RFC = RandomForestClassifier(n_estimators = 325, max_features = 'log2', max_depth = 10, criterion = 'entropy')\n",
    "RFC.fit(X_train, y_train) #Entrena el modelo\n",
    "y_pred_rfc = RFC.predict(X_test) #Genera la predicción"
   ]
  },
  {
   "cell_type": "code",
   "execution_count": 267,
   "metadata": {},
   "outputs": [
    {
     "name": "stdout",
     "output_type": "stream",
     "text": [
      "Precisión del modelo en el subconjunto de entrenamiento: 1.0\n",
      "Precisión del modelo en el subconjunto de prueba: 1.0\n"
     ]
    }
   ],
   "source": [
    "print(\"Precisión del modelo en el subconjunto de entrenamiento: {}\".format(RFC.score(X_train, y_train).round(2)))\n",
    "print(\"Precisión del modelo en el subconjunto de prueba: {}\".format(RFC.score(X_test, y_test).round(2)))"
   ]
  },
  {
   "cell_type": "code",
   "execution_count": 268,
   "metadata": {},
   "outputs": [
    {
     "name": "stdout",
     "output_type": "stream",
     "text": [
      "[[190   0]\n",
      " [  0 220]]\n",
      "True positives: 220\n",
      "True negatives: 190\n",
      "False positives: 0\n",
      "False negative: 0\n",
      "Precision:100.0%\n",
      "Sensibilidad:100.0%\n",
      "Especificidad:100.0%\n"
     ]
    }
   ],
   "source": [
    "evaluar(y_test, y_pred_rfc)"
   ]
  },
  {
   "cell_type": "code",
   "execution_count": 269,
   "metadata": {},
   "outputs": [
    {
     "data": {
      "text/plain": [
       "array([1, 1, 1, 1, 0, 0, 1, 1, 1, 1, 1, 0, 0, 0, 1, 1, 0, 1, 0, 1, 1, 1,\n",
       "       0, 0, 0, 0, 0, 1, 1, 0, 1, 0, 1, 1, 1, 1, 1, 0, 1, 0, 0, 1, 1, 0,\n",
       "       1, 0, 0, 1, 1, 0, 1, 0, 0, 1, 1, 1, 0, 0, 0, 1, 0, 0, 1, 1, 1, 1,\n",
       "       0, 1, 1, 1, 0, 1, 0, 0, 0, 0, 1, 0, 0, 1, 1, 1, 1, 0, 0, 1, 1, 1,\n",
       "       0, 0, 0, 1, 1, 0, 1, 1, 1, 1, 0, 0, 0, 1, 0, 0, 0, 1, 0, 1, 0, 0,\n",
       "       0, 0, 0, 1, 0, 1, 1, 1, 1, 0, 0, 1, 1, 1, 1, 0, 0, 0, 0, 0, 0, 1,\n",
       "       1, 1, 0, 0, 1, 0, 1, 1, 0, 0, 1, 0, 0, 1, 0, 1, 1, 1, 0, 0, 1, 1,\n",
       "       0, 0, 1, 0, 1, 0, 0, 1, 0, 1, 1, 0, 1, 0, 0, 0, 0, 1, 1, 1, 1, 1,\n",
       "       0, 1, 0, 0, 0, 0, 0, 1, 0, 0, 1, 0, 0, 0, 1, 0, 0, 0, 0, 0, 1, 1,\n",
       "       1, 1, 0, 0, 1, 0, 1, 1, 0, 0, 1, 0, 0, 1, 0, 1, 1, 0, 0, 1, 1, 1,\n",
       "       1, 1, 1, 1, 0, 1, 1, 1, 1, 1, 1, 0, 0, 0, 0, 0, 1, 1, 1, 0, 1, 1,\n",
       "       0, 1, 1, 0, 1, 0, 1, 1, 0, 1, 0, 1, 0, 0, 1, 0, 0, 0, 0, 1, 1, 0,\n",
       "       0, 1, 0, 0, 0, 0, 1, 0, 1, 1, 1, 0, 0, 1, 1, 1, 1, 1, 0, 0, 0, 0,\n",
       "       0, 1, 0, 0, 0, 1, 1, 0, 0, 1, 0, 0, 0, 0, 1, 1, 1, 1, 0, 0, 1, 1,\n",
       "       1, 1, 0, 0, 1, 1, 1, 0, 1, 1, 1, 0, 1, 1, 1, 1, 1, 0, 1, 1, 0, 1,\n",
       "       0, 1, 1, 0, 1, 0, 0, 0, 0, 1, 1, 0, 1, 1, 1, 1, 0, 0, 0, 0, 0, 0,\n",
       "       0, 1, 1, 1, 1, 1, 0, 1, 1, 1, 1, 0, 1, 0, 1, 0, 0, 1, 1, 0, 1, 0,\n",
       "       1, 0, 1, 1, 1, 1, 0, 1, 0, 1, 1, 1, 1, 1, 1, 1, 1, 1, 0, 0, 1, 1,\n",
       "       1, 1, 1, 1, 0, 0, 0, 1, 1, 0, 0, 1, 1, 1], dtype=int64)"
      ]
     },
     "execution_count": 269,
     "metadata": {},
     "output_type": "execute_result"
    }
   ],
   "source": [
    "y_pred_rfc_curva = RFC.predict(X_test)\n",
    "\n",
    "y_pred_rfc_curva"
   ]
  },
  {
   "cell_type": "code",
   "execution_count": 270,
   "metadata": {},
   "outputs": [
    {
     "data": {
      "text/plain": [
       "array([[0.06001465, 0.93998535],\n",
       "       [0.02461538, 0.97538462],\n",
       "       [0.01274725, 0.98725275],\n",
       "       [0.        , 1.        ],\n",
       "       [0.96615385, 0.03384615],\n",
       "       [1.        , 0.        ],\n",
       "       [0.03323077, 0.96676923],\n",
       "       [0.00307692, 0.99692308],\n",
       "       [0.04      , 0.96      ],\n",
       "       [0.07428571, 0.92571429]])"
      ]
     },
     "execution_count": 270,
     "metadata": {},
     "output_type": "execute_result"
    }
   ],
   "source": [
    "y_pred_proba_rfc_curva = RFC.predict_proba(X_test)\n",
    "\n",
    "y_pred_proba_rfc_curva[:10,:]"
   ]
  },
  {
   "cell_type": "code",
   "execution_count": 271,
   "metadata": {},
   "outputs": [],
   "source": [
    "fpr, tpr, _ = roc_curve(y_test, y_pred_proba_rfc_curva[:, 1])\n",
    "roc_auc = auc(fpr, tpr)"
   ]
  },
  {
   "cell_type": "code",
   "execution_count": 272,
   "metadata": {},
   "outputs": [
    {
     "data": {
      "image/png": "[encoded data removed]",
      "text/plain": [
       "<Figure size 432x288 with 1 Axes>"
      ]
     },
     "metadata": {
      "needs_background": "light"
     },
     "output_type": "display_data"
    }
   ],
   "source": [
    "plt.figure()\n",
    "plt.plot(fpr, tpr, color='darkorange',\n",
    "         label='ROC curve (area = %0.2f)' % roc_auc)\n",
    "plt.plot([0, 1], [0, 1], color='navy', linestyle='--')\n",
    "plt.xlim([0.0, 1.0])\n",
    "plt.ylim([0.0, 1.05])\n",
    "plt.xlabel('Proporción Positivos False')\n",
    "plt.ylabel('Proporción Positivos Verdaderos')\n",
    "plt.title('Curva ROC / AUC')\n",
    "plt.legend(loc=\"lower right\")\n",
    "plt.show()"
   ]
  },
  {
   "cell_type": "markdown",
   "metadata": {},
   "source": [
    "### Red neuronal"
   ]
  },
  {
   "cell_type": "code",
   "execution_count": 273,
   "metadata": {},
   "outputs": [],
   "source": [
    "# Hiperparámetros\n",
    "param_grid = {\n",
    "    'hidden_layer_sizes': [(10,30,10), (20,), (3,2,1)],\n",
    "    'activation': ['logistic', 'tanh', 'relu'],\n",
    "    'alpha': [0.001, 0.01, 0.1]\n",
    "}\n",
    "\n",
    "# Instancia del modelo\n",
    "from sklearn.neural_network import MLPClassifier\n",
    "ANN = MLPClassifier()"
   ]
  },
  {
   "cell_type": "code",
   "execution_count": 274,
   "metadata": {},
   "outputs": [
    {
     "data": {
      "text/plain": [
       "RandomizedSearchCV(cv=10, estimator=MLPClassifier(),\n",
       "                   param_distributions={'activation': ['logistic', 'tanh',\n",
       "                                                       'relu'],\n",
       "                                        'alpha': [0.001, 0.01, 0.1],\n",
       "                                        'hidden_layer_sizes': [(10, 30, 10),\n",
       "                                                               (20,),\n",
       "                                                               (3, 2, 1)]})"
      ]
     },
     "execution_count": 274,
     "metadata": {},
     "output_type": "execute_result"
    }
   ],
   "source": [
    "# Ajusta de hiperparámetros y entrenamiento\n",
    "ANN_cv = RandomizedSearchCV(ANN, param_grid, cv = 10)\n",
    "ANN_cv.fit(X_train, y_train)"
   ]
  },
  {
   "cell_type": "code",
   "execution_count": 275,
   "metadata": {},
   "outputs": [
    {
     "name": "stdout",
     "output_type": "stream",
     "text": [
      "Máquina de soporte vectorial con hiperparámetros ajustados: {'hidden_layer_sizes': (10, 30, 10), 'alpha': 0.01, 'activation': 'logistic'}\n"
     ]
    }
   ],
   "source": [
    "# Hiperparámetros que generan el mejor modelo\n",
    "print(\"Máquina de soporte vectorial con hiperparámetros ajustados: {}\".format(ANN_cv.best_params_))"
   ]
  },
  {
   "cell_type": "code",
   "execution_count": 276,
   "metadata": {},
   "outputs": [
    {
     "name": "stdout",
     "output_type": "stream",
     "text": [
      "Precisión del modelo en el subconjunto de entrenamiento: 1.0\n",
      "Precisión del modelo en el subconjunto de prueba: 1.0\n"
     ]
    }
   ],
   "source": [
    "# Evaluación del modelo\n",
    "print(\"Precisión del modelo en el subconjunto de entrenamiento: {}\".format(ANN_cv.best_score_.round(2)))\n",
    "print(\"Precisión del modelo en el subconjunto de prueba: {}\".format(ANN_cv.score(X_test, y_test).round(2)))"
   ]
  },
  {
   "cell_type": "code",
   "execution_count": 277,
   "metadata": {},
   "outputs": [],
   "source": [
    "ANN = MLPClassifier(hidden_layer_sizes = (10, 30, 10), alpha = 0.1, activation = 'relu')\n",
    "ANN.fit(X_train, y_train)\n",
    "y_pred_ann = ANN.predict(X_test)"
   ]
  },
  {
   "cell_type": "code",
   "execution_count": 278,
   "metadata": {},
   "outputs": [
    {
     "name": "stdout",
     "output_type": "stream",
     "text": [
      "Precisión del modelo en el subconjunto de entrenamiento: 1.0\n",
      "Precisión del modelo en el subconjunto de prueba: 1.0\n"
     ]
    }
   ],
   "source": [
    "print(\"Precisión del modelo en el subconjunto de entrenamiento: {}\".format(ANN.score(X_train, y_train).round(2)))\n",
    "print(\"Precisión del modelo en el subconjunto de prueba: {}\".format(ANN.score(X_test, y_test).round(2)))"
   ]
  },
  {
   "cell_type": "code",
   "execution_count": 279,
   "metadata": {},
   "outputs": [
    {
     "name": "stdout",
     "output_type": "stream",
     "text": [
      "[[190   0]\n",
      " [  0 220]]\n",
      "True positives: 220\n",
      "True negatives: 190\n",
      "False positives: 0\n",
      "False negative: 0\n",
      "Precision:100.0%\n",
      "Sensibilidad:100.0%\n",
      "Especificidad:100.0%\n"
     ]
    }
   ],
   "source": [
    "evaluar(y_test, y_pred_ann)"
   ]
  },
  {
   "cell_type": "code",
   "execution_count": 280,
   "metadata": {},
   "outputs": [
    {
     "data": {
      "text/plain": [
       "array([1, 1, 1, 1, 0, 0, 1, 1, 1, 1, 1, 0, 0, 0, 1, 1, 0, 1, 0, 1, 1, 1,\n",
       "       0, 0, 0, 0, 0, 1, 1, 0, 1, 0, 1, 1, 1, 1, 1, 0, 1, 0, 0, 1, 1, 0,\n",
       "       1, 0, 0, 1, 1, 0, 1, 0, 0, 1, 1, 1, 0, 0, 0, 1, 0, 0, 1, 1, 1, 1,\n",
       "       0, 1, 1, 1, 0, 1, 0, 0, 0, 0, 1, 0, 0, 1, 1, 1, 1, 0, 0, 1, 1, 1,\n",
       "       0, 0, 0, 1, 1, 0, 1, 1, 1, 1, 0, 0, 0, 1, 0, 0, 0, 1, 0, 1, 0, 0,\n",
       "       0, 0, 0, 1, 0, 1, 1, 1, 1, 0, 0, 1, 1, 1, 1, 0, 0, 0, 0, 0, 0, 1,\n",
       "       1, 1, 0, 0, 1, 0, 1, 1, 0, 0, 1, 0, 0, 1, 0, 1, 1, 1, 0, 0, 1, 1,\n",
       "       0, 0, 1, 0, 1, 0, 0, 1, 0, 1, 1, 0, 1, 0, 0, 0, 0, 1, 1, 1, 1, 1,\n",
       "       0, 1, 0, 0, 0, 0, 0, 1, 0, 0, 1, 0, 0, 0, 1, 0, 0, 0, 0, 0, 1, 1,\n",
       "       1, 1, 0, 0, 1, 0, 1, 1, 0, 0, 1, 0, 0, 1, 0, 1, 1, 0, 0, 1, 1, 1,\n",
       "       1, 1, 1, 1, 0, 1, 1, 1, 1, 1, 1, 0, 0, 0, 0, 0, 1, 1, 1, 0, 1, 1,\n",
       "       0, 1, 1, 0, 1, 0, 1, 1, 0, 1, 0, 1, 0, 0, 1, 0, 0, 0, 0, 1, 1, 0,\n",
       "       0, 1, 0, 0, 0, 0, 1, 0, 1, 1, 1, 0, 0, 1, 1, 1, 1, 1, 0, 0, 0, 0,\n",
       "       0, 1, 0, 0, 0, 1, 1, 0, 0, 1, 0, 0, 0, 0, 1, 1, 1, 1, 0, 0, 1, 1,\n",
       "       1, 1, 0, 0, 1, 1, 1, 0, 1, 1, 1, 0, 1, 1, 1, 1, 1, 0, 1, 1, 0, 1,\n",
       "       0, 1, 1, 0, 1, 0, 0, 0, 0, 1, 1, 0, 1, 1, 1, 1, 0, 0, 0, 0, 0, 0,\n",
       "       0, 1, 1, 1, 1, 1, 0, 1, 1, 1, 1, 0, 1, 0, 1, 0, 0, 1, 1, 0, 1, 0,\n",
       "       1, 0, 1, 1, 1, 1, 0, 1, 0, 1, 1, 1, 1, 1, 1, 1, 1, 1, 0, 0, 1, 1,\n",
       "       1, 1, 1, 1, 0, 0, 0, 1, 1, 0, 0, 1, 1, 1], dtype=int64)"
      ]
     },
     "execution_count": 280,
     "metadata": {},
     "output_type": "execute_result"
    }
   ],
   "source": [
    "y_pred_ann_curva = ANN.predict(X_test)\n",
    "\n",
    "y_pred_ann_curva"
   ]
  },
  {
   "cell_type": "code",
   "execution_count": 281,
   "metadata": {},
   "outputs": [
    {
     "data": {
      "text/plain": [
       "array([[2.15262718e-03, 9.97847373e-01],\n",
       "       [2.61803462e-03, 9.97381965e-01],\n",
       "       [4.51174275e-03, 9.95488257e-01],\n",
       "       [9.33737338e-03, 9.90662627e-01],\n",
       "       [9.99775363e-01, 2.24636611e-04],\n",
       "       [9.99896973e-01, 1.03026899e-04],\n",
       "       [4.53770699e-04, 9.99546229e-01],\n",
       "       [3.68417635e-04, 9.99631582e-01],\n",
       "       [3.36218079e-04, 9.99663782e-01],\n",
       "       [2.35590125e-04, 9.99764410e-01]])"
      ]
     },
     "execution_count": 281,
     "metadata": {},
     "output_type": "execute_result"
    }
   ],
   "source": [
    "y_pred_proba_ann_curva = ANN.predict_proba(X_test)\n",
    "\n",
    "y_pred_proba_ann_curva[:10,:]"
   ]
  },
  {
   "cell_type": "code",
   "execution_count": 282,
   "metadata": {},
   "outputs": [],
   "source": [
    "fpr, tpr, _ = roc_curve(y_test, y_pred_proba_ann_curva[:, 1])\n",
    "roc_auc = auc(fpr, tpr)"
   ]
  },
  {
   "cell_type": "code",
   "execution_count": 283,
   "metadata": {},
   "outputs": [
    {
     "data": {
      "image/png": "[encoded data removed]",
      "text/plain": [
       "<Figure size 432x288 with 1 Axes>"
      ]
     },
     "metadata": {
      "needs_background": "light"
     },
     "output_type": "display_data"
    }
   ],
   "source": [
    "plt.figure()\n",
    "plt.plot(fpr, tpr, color='darkorange',\n",
    "         label='ROC curve (area = %0.2f)' % roc_auc)\n",
    "plt.plot([0, 1], [0, 1], color='navy', linestyle='--')\n",
    "plt.xlim([0.0, 1.0])\n",
    "plt.ylim([0.0, 1.05])\n",
    "plt.xlabel('Proporción Positivos False')\n",
    "plt.ylabel('Proporción Positivos Verdaderos')\n",
    "plt.title('Curva ROC / AUC')\n",
    "plt.legend(loc=\"lower right\")\n",
    "plt.show()"
   ]
  },
  {
   "cell_type": "markdown",
   "metadata": {},
   "source": [
    "## Elementos del Checkpoint\n",
    "\n",
    "### ¿Qué incluye este proyecto?\n",
    "\n",
    "#### Sesión 01\n",
    "Definición de un proyecto de Machine Learning\n",
    "\n",
    "#### Sesión 02\n",
    "Creación de módulo de separación, evaluación y validación de algoritmos de Machine Learning\n",
    "\n",
    "#### Sesión 03\n",
    "Se construyó un algoritmo de Machine Learning No-supervisado que resuelva un problema específico.\n",
    "\n",
    "#### Sesión 05\n",
    "La construcción de un algoritmo de Machine Learning de árboles de decisión para clasificación.\n",
    "\n",
    "#### Sesión 06\n",
    "La construcción de un algoritmo basado en Redes Neuronales Artificiales que permita realizar clasificaciones.\n",
    "\n",
    "#### Sesión 07\n",
    "La construcción de varios algoritmos de clasificación basados en Machine Learning, y mostrar cuál es el mejor con base en evidencia sólida."
   ]
  }
 ],
 "metadata": {
  "kernelspec": {
   "display_name": "Python 3",
   "language": "python",
   "name": "python3"
  },
  "language_info": {
   "codemirror_mode": {
    "name": "ipython",
    "version": 3
   },
   "file_extension": ".py",
   "mimetype": "text/x-python",
   "name": "python",
   "nbconvert_exporter": "python",
   "pygments_lexer": "ipython3",
   "version": "3.8.5"
  }
 },
 "nbformat": 4,
 "nbformat_minor": 4
}

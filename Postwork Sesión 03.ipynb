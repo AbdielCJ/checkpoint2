{
 "cells": [
  {
   "cell_type": "markdown",
   "metadata": {},
   "source": [
    "# Postwork Sesión 03"
   ]
  },
  {
   "cell_type": "code",
   "execution_count": 19,
   "metadata": {},
   "outputs": [],
   "source": [
    "import MLUtilities as mlu\n",
    "from sklearn.cluster import KMeans"
   ]
  },
  {
   "cell_type": "code",
   "execution_count": 21,
   "metadata": {},
   "outputs": [
    {
     "data": {
      "text/html": [
       "<div>\n",
       "<style scoped>\n",
       "    .dataframe tbody tr th:only-of-type {\n",
       "        vertical-align: middle;\n",
       "    }\n",
       "\n",
       "    .dataframe tbody tr th {\n",
       "        vertical-align: top;\n",
       "    }\n",
       "\n",
       "    .dataframe thead th {\n",
       "        text-align: right;\n",
       "    }\n",
       "</style>\n",
       "<table border=\"1\" class=\"dataframe\">\n",
       "  <thead>\n",
       "    <tr style=\"text-align: right;\">\n",
       "      <th></th>\n",
       "      <th>artists</th>\n",
       "      <th>acousticness</th>\n",
       "      <th>danceability</th>\n",
       "      <th>duration_ms</th>\n",
       "      <th>energy</th>\n",
       "      <th>instrumentalness</th>\n",
       "      <th>liveness</th>\n",
       "      <th>loudness</th>\n",
       "      <th>speechiness</th>\n",
       "      <th>tempo</th>\n",
       "      <th>valence</th>\n",
       "      <th>popularity</th>\n",
       "    </tr>\n",
       "  </thead>\n",
       "  <tbody>\n",
       "    <tr>\n",
       "      <th>0</th>\n",
       "      <td>5 Seconds of Summer</td>\n",
       "      <td>0.043567</td>\n",
       "      <td>0.547308</td>\n",
       "      <td>195593.0769</td>\n",
       "      <td>0.804585</td>\n",
       "      <td>0.000016</td>\n",
       "      <td>0.181711</td>\n",
       "      <td>-4.599892</td>\n",
       "      <td>0.104403</td>\n",
       "      <td>141.883923</td>\n",
       "      <td>0.520938</td>\n",
       "      <td>61.015385</td>\n",
       "    </tr>\n",
       "    <tr>\n",
       "      <th>1</th>\n",
       "      <td>50 Cent</td>\n",
       "      <td>0.122386</td>\n",
       "      <td>0.695039</td>\n",
       "      <td>234964.0899</td>\n",
       "      <td>0.762388</td>\n",
       "      <td>0.000548</td>\n",
       "      <td>0.198361</td>\n",
       "      <td>-4.149427</td>\n",
       "      <td>0.259516</td>\n",
       "      <td>105.929427</td>\n",
       "      <td>0.589770</td>\n",
       "      <td>52.342697</td>\n",
       "    </tr>\n",
       "    <tr>\n",
       "      <th>2</th>\n",
       "      <td>AC/DC</td>\n",
       "      <td>0.027054</td>\n",
       "      <td>0.476390</td>\n",
       "      <td>258998.6163</td>\n",
       "      <td>0.847727</td>\n",
       "      <td>0.210036</td>\n",
       "      <td>0.280974</td>\n",
       "      <td>-4.818866</td>\n",
       "      <td>0.069395</td>\n",
       "      <td>128.038802</td>\n",
       "      <td>0.508220</td>\n",
       "      <td>51.401163</td>\n",
       "    </tr>\n",
       "    <tr>\n",
       "      <th>3</th>\n",
       "      <td>ACOT</td>\n",
       "      <td>0.000319</td>\n",
       "      <td>0.730000</td>\n",
       "      <td>169912.0000</td>\n",
       "      <td>0.567000</td>\n",
       "      <td>0.000009</td>\n",
       "      <td>0.105000</td>\n",
       "      <td>-8.085000</td>\n",
       "      <td>0.058700</td>\n",
       "      <td>119.997000</td>\n",
       "      <td>0.171000</td>\n",
       "      <td>62.000000</td>\n",
       "    </tr>\n",
       "    <tr>\n",
       "      <th>4</th>\n",
       "      <td>AFI</td>\n",
       "      <td>0.006557</td>\n",
       "      <td>0.390139</td>\n",
       "      <td>187259.2222</td>\n",
       "      <td>0.905722</td>\n",
       "      <td>0.031634</td>\n",
       "      <td>0.222553</td>\n",
       "      <td>-5.111389</td>\n",
       "      <td>0.087367</td>\n",
       "      <td>127.025750</td>\n",
       "      <td>0.444339</td>\n",
       "      <td>42.222222</td>\n",
       "    </tr>\n",
       "  </tbody>\n",
       "</table>\n",
       "</div>"
      ],
      "text/plain": [
       "               artists  acousticness  danceability  duration_ms    energy  \\\n",
       "0  5 Seconds of Summer      0.043567      0.547308  195593.0769  0.804585   \n",
       "1              50 Cent      0.122386      0.695039  234964.0899  0.762388   \n",
       "2                AC/DC      0.027054      0.476390  258998.6163  0.847727   \n",
       "3                 ACOT      0.000319      0.730000  169912.0000  0.567000   \n",
       "4                  AFI      0.006557      0.390139  187259.2222  0.905722   \n",
       "\n",
       "   instrumentalness  liveness  loudness  speechiness       tempo   valence  \\\n",
       "0          0.000016  0.181711 -4.599892     0.104403  141.883923  0.520938   \n",
       "1          0.000548  0.198361 -4.149427     0.259516  105.929427  0.589770   \n",
       "2          0.210036  0.280974 -4.818866     0.069395  128.038802  0.508220   \n",
       "3          0.000009  0.105000 -8.085000     0.058700  119.997000  0.171000   \n",
       "4          0.031634  0.222553 -5.111389     0.087367  127.025750  0.444339   \n",
       "\n",
       "   popularity  \n",
       "0   61.015385  \n",
       "1   52.342697  \n",
       "2   51.401163  \n",
       "3   62.000000  \n",
       "4   42.222222  "
      ]
     },
     "execution_count": 21,
     "metadata": {},
     "output_type": "execute_result"
    }
   ],
   "source": [
    "df_artistas = mlu.pd.read_csv('data_by_artist_o.csv')\n",
    "df_artistas.head()"
   ]
  },
  {
   "cell_type": "code",
   "execution_count": 22,
   "metadata": {},
   "outputs": [
    {
     "data": {
      "text/plain": [
       "Index(['artists', 'acousticness', 'danceability', 'duration_ms', 'energy',\n",
       "       'instrumentalness', 'liveness', 'loudness', 'speechiness', 'tempo',\n",
       "       'valence', 'popularity'],\n",
       "      dtype='object')"
      ]
     },
     "execution_count": 22,
     "metadata": {},
     "output_type": "execute_result"
    }
   ],
   "source": [
    "df_artistas.columns"
   ]
  },
  {
   "cell_type": "code",
   "execution_count": 23,
   "metadata": {},
   "outputs": [],
   "source": [
    "features = ['acousticness', 'danceability', 'duration_ms', 'energy', 'instrumentalness', 'liveness', 'loudness', 'speechiness', 'tempo', 'valence', 'popularity']"
   ]
  },
  {
   "cell_type": "code",
   "execution_count": 24,
   "metadata": {},
   "outputs": [],
   "source": [
    "x = df_artistas[features].to_numpy()"
   ]
  },
  {
   "cell_type": "code",
   "execution_count": 25,
   "metadata": {},
   "outputs": [],
   "source": [
    "modelo_kmeans = KMeans(n_clusters = 1500,).fit(x)\n",
    "centroides = modelo_kmeans.cluster_centers_"
   ]
  },
  {
   "cell_type": "code",
   "execution_count": 26,
   "metadata": {},
   "outputs": [],
   "source": [
    "def recomiendameArtista(listaDeArtistas,datosArtistas,artistaEjemplo,centroides):\n",
    "    #Vamos a buscar el centroide mas cercano (con MLUtilities ;) )\n",
    "    clasificacionDeseada = mlu.centroideCercano(artistaEjemplo, centroides)\n",
    "    \n",
    "    #Luego, vamos a clasificar todas las canciones por centroides.\n",
    "    clasificaciones = mlu.clasificarPorCentroides(datosArtistas, centroides)\n",
    "    \n",
    "    #Finalmente, sacaremos los indices que hacen match entre clasificaciones.\n",
    "    indices = mlu.np.where(clasificaciones == clasificacionDeseada)[0]\n",
    "    \n",
    "    #Y regresamos la lista de canciones.\n",
    "    return listaDeArtistas[indices]"
   ]
  },
  {
   "cell_type": "code",
   "execution_count": 27,
   "metadata": {},
   "outputs": [
    {
     "name": "stdout",
     "output_type": "stream",
     "text": [
      "2    Porque escuchaste AC/DC te recomendamos:\n",
      "Name: artists, dtype: object\n",
      "2                  AC/DC\n",
      "910         Andy & Lucas\n",
      "2565       Black & Blues\n",
      "2700    Blue Öyster Cult\n",
      "3539        Candy Dulfer\n",
      "Name: artists, dtype: object\n"
     ]
    }
   ],
   "source": [
    "#Sientete libre de cambiar este valor.\n",
    "artista = \"AC/DC\"\n",
    "indice_df = df_artistas.artists[df_artistas.artists == artista].index\n",
    "\n",
    "#Extrae la película que deseas del dataframe.\n",
    "artistaElegida = df_artistas.iloc[indice_df]\n",
    "\n",
    "#Obten las características de la pelicula que elegiste.\n",
    "caracteristicaArtista = artistaElegida[features].to_numpy()\n",
    "\n",
    "#Obten la lista de recomendaciones\n",
    "recomendaciones = recomiendameArtista(df_artistas['artists'],x, caracteristicaArtista, centroides)\n",
    "\n",
    "#E imprime lo que hallaste!\n",
    "print(\"Porque escuchaste \"+artistaElegida['artists']+\" te recomendamos:\")\n",
    "print(recomendaciones.head())"
   ]
  }
 ],
 "metadata": {
  "kernelspec": {
   "display_name": "Python 3",
   "language": "python",
   "name": "python3"
  },
  "language_info": {
   "codemirror_mode": {
    "name": "ipython",
    "version": 3
   },
   "file_extension": ".py",
   "mimetype": "text/x-python",
   "name": "python",
   "nbconvert_exporter": "python",
   "pygments_lexer": "ipython3",
   "version": "3.8.5"
  }
 },
 "nbformat": 4,
 "nbformat_minor": 4
}

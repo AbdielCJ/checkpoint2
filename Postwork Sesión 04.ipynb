{
 "cells": [
  {
   "cell_type": "markdown",
   "metadata": {},
   "source": [
    "# Postwork Sesión 04"
   ]
  },
  {
   "cell_type": "markdown",
   "metadata": {},
   "source": [
    "## BBDD Walmart"
   ]
  },
  {
   "cell_type": "code",
   "execution_count": 37,
   "metadata": {},
   "outputs": [],
   "source": [
    "import numpy as np\n",
    "import pandas as pd\n",
    "from sklearn.datasets import load_boston\n",
    "from sklearn.model_selection import train_test_split\n",
    "from sklearn.linear_model import LinearRegression\n",
    "from sklearn.metrics import mean_squared_error\n",
    "from sklearn.preprocessing import PolynomialFeatures"
   ]
  },
  {
   "cell_type": "code",
   "execution_count": 38,
   "metadata": {},
   "outputs": [
    {
     "data": {
      "text/html": [
       "<div>\n",
       "<style scoped>\n",
       "    .dataframe tbody tr th:only-of-type {\n",
       "        vertical-align: middle;\n",
       "    }\n",
       "\n",
       "    .dataframe tbody tr th {\n",
       "        vertical-align: top;\n",
       "    }\n",
       "\n",
       "    .dataframe thead th {\n",
       "        text-align: right;\n",
       "    }\n",
       "</style>\n",
       "<table border=\"1\" class=\"dataframe\">\n",
       "  <thead>\n",
       "    <tr style=\"text-align: right;\">\n",
       "      <th></th>\n",
       "      <th>Store</th>\n",
       "      <th>Date</th>\n",
       "      <th>Weekly_Sales</th>\n",
       "      <th>Holiday_Flag</th>\n",
       "      <th>Temperature</th>\n",
       "      <th>Fuel_Price</th>\n",
       "      <th>CPI</th>\n",
       "      <th>Unemployment</th>\n",
       "    </tr>\n",
       "  </thead>\n",
       "  <tbody>\n",
       "    <tr>\n",
       "      <th>0</th>\n",
       "      <td>1</td>\n",
       "      <td>05/02/2010</td>\n",
       "      <td>1643690.90</td>\n",
       "      <td>0</td>\n",
       "      <td>42.31</td>\n",
       "      <td>2.572</td>\n",
       "      <td>211.096358</td>\n",
       "      <td>8.106</td>\n",
       "    </tr>\n",
       "    <tr>\n",
       "      <th>1</th>\n",
       "      <td>1</td>\n",
       "      <td>12/02/2010</td>\n",
       "      <td>1641957.44</td>\n",
       "      <td>1</td>\n",
       "      <td>38.51</td>\n",
       "      <td>2.548</td>\n",
       "      <td>211.242170</td>\n",
       "      <td>8.106</td>\n",
       "    </tr>\n",
       "    <tr>\n",
       "      <th>2</th>\n",
       "      <td>1</td>\n",
       "      <td>19/02/2010</td>\n",
       "      <td>1611968.17</td>\n",
       "      <td>0</td>\n",
       "      <td>39.93</td>\n",
       "      <td>2.514</td>\n",
       "      <td>211.289143</td>\n",
       "      <td>8.106</td>\n",
       "    </tr>\n",
       "    <tr>\n",
       "      <th>3</th>\n",
       "      <td>1</td>\n",
       "      <td>26/02/2010</td>\n",
       "      <td>1409727.59</td>\n",
       "      <td>0</td>\n",
       "      <td>46.63</td>\n",
       "      <td>2.561</td>\n",
       "      <td>211.319643</td>\n",
       "      <td>8.106</td>\n",
       "    </tr>\n",
       "    <tr>\n",
       "      <th>4</th>\n",
       "      <td>1</td>\n",
       "      <td>05/03/2010</td>\n",
       "      <td>1554806.68</td>\n",
       "      <td>0</td>\n",
       "      <td>46.50</td>\n",
       "      <td>2.625</td>\n",
       "      <td>211.350143</td>\n",
       "      <td>8.106</td>\n",
       "    </tr>\n",
       "  </tbody>\n",
       "</table>\n",
       "</div>"
      ],
      "text/plain": [
       "   Store        Date  Weekly_Sales  Holiday_Flag  Temperature  Fuel_Price  \\\n",
       "0      1  05/02/2010    1643690.90             0        42.31       2.572   \n",
       "1      1  12/02/2010    1641957.44             1        38.51       2.548   \n",
       "2      1  19/02/2010    1611968.17             0        39.93       2.514   \n",
       "3      1  26/02/2010    1409727.59             0        46.63       2.561   \n",
       "4      1  05/03/2010    1554806.68             0        46.50       2.625   \n",
       "\n",
       "          CPI  Unemployment  \n",
       "0  211.096358         8.106  \n",
       "1  211.242170         8.106  \n",
       "2  211.289143         8.106  \n",
       "3  211.319643         8.106  \n",
       "4  211.350143         8.106  "
      ]
     },
     "execution_count": 38,
     "metadata": {},
     "output_type": "execute_result"
    }
   ],
   "source": [
    "df_walmart = pd.read_csv('Walmart_Store_sales.csv')\n",
    "df_walmart.head()"
   ]
  },
  {
   "cell_type": "code",
   "execution_count": 39,
   "metadata": {},
   "outputs": [
    {
     "data": {
      "text/plain": [
       "(6435, 8)"
      ]
     },
     "execution_count": 39,
     "metadata": {},
     "output_type": "execute_result"
    }
   ],
   "source": [
    "df_walmart.shape"
   ]
  },
  {
   "cell_type": "code",
   "execution_count": 40,
   "metadata": {},
   "outputs": [
    {
     "name": "stdout",
     "output_type": "stream",
     "text": [
      "Index(['Store', 'Date', 'Weekly_Sales', 'Holiday_Flag', 'Temperature',\n",
      "       'Fuel_Price', 'CPI', 'Unemployment'],\n",
      "      dtype='object')\n"
     ]
    }
   ],
   "source": [
    "print(df_walmart.columns)"
   ]
  },
  {
   "cell_type": "code",
   "execution_count": 41,
   "metadata": {},
   "outputs": [],
   "source": [
    "X = df_walmart[['Weekly_Sales', 'Holiday_Flag', 'Temperature',\n",
    "       'Fuel_Price', 'CPI', 'Unemployment']]\n",
    "Y = df_walmart['Store']"
   ]
  },
  {
   "cell_type": "code",
   "execution_count": 42,
   "metadata": {},
   "outputs": [
    {
     "name": "stdout",
     "output_type": "stream",
     "text": [
      "(3861, 6)\n",
      "(2574, 6)\n",
      "(3861,)\n",
      "(2574,)\n"
     ]
    }
   ],
   "source": [
    "X_train, X_test, Y_train, Y_test = train_test_split(X, Y, test_size = 0.4, random_state=5)\n",
    "print(X_train.shape)\n",
    "print(X_test.shape)\n",
    "print(Y_train.shape)\n",
    "print(Y_test.shape)"
   ]
  },
  {
   "cell_type": "markdown",
   "metadata": {},
   "source": [
    "### Modelo con polinomio de grado 1 (lineal)"
   ]
  },
  {
   "cell_type": "code",
   "execution_count": 43,
   "metadata": {},
   "outputs": [
    {
     "data": {
      "text/plain": [
       "LinearRegression()"
      ]
     },
     "execution_count": 43,
     "metadata": {},
     "output_type": "execute_result"
    }
   ],
   "source": [
    "lin_model = LinearRegression()\n",
    "lin_model.fit(X_train, Y_train)"
   ]
  },
  {
   "cell_type": "code",
   "execution_count": 44,
   "metadata": {},
   "outputs": [
    {
     "name": "stdout",
     "output_type": "stream",
     "text": [
      "Entrenamiento: MSE =139.7952551163223\n",
      "Pruebas: MSE =134.3529275106685\n"
     ]
    }
   ],
   "source": [
    "y_train_predict = lin_model.predict(X_train)\n",
    "MSE = mean_squared_error(Y_train,y_train_predict)\n",
    "print(\"Entrenamiento: MSE =\"+str(MSE))\n",
    "\n",
    "y_test_predict = lin_model.predict(X_test)\n",
    "MSE = (mean_squared_error(Y_test, y_test_predict))\n",
    "print(\"Pruebas: MSE =\"+str(MSE))"
   ]
  },
  {
   "cell_type": "code",
   "execution_count": 45,
   "metadata": {},
   "outputs": [
    {
     "data": {
      "text/html": [
       "<div>\n",
       "<style scoped>\n",
       "    .dataframe tbody tr th:only-of-type {\n",
       "        vertical-align: middle;\n",
       "    }\n",
       "\n",
       "    .dataframe tbody tr th {\n",
       "        vertical-align: top;\n",
       "    }\n",
       "\n",
       "    .dataframe thead th {\n",
       "        text-align: right;\n",
       "    }\n",
       "</style>\n",
       "<table border=\"1\" class=\"dataframe\">\n",
       "  <thead>\n",
       "    <tr style=\"text-align: right;\">\n",
       "      <th></th>\n",
       "      <th>valor_real</th>\n",
       "      <th>prediccion</th>\n",
       "      <th>diferencia</th>\n",
       "    </tr>\n",
       "  </thead>\n",
       "  <tbody>\n",
       "    <tr>\n",
       "      <th>0</th>\n",
       "      <td>11</td>\n",
       "      <td>15.980705</td>\n",
       "      <td>-4.980705</td>\n",
       "    </tr>\n",
       "    <tr>\n",
       "      <th>1</th>\n",
       "      <td>39</td>\n",
       "      <td>18.632078</td>\n",
       "      <td>20.367922</td>\n",
       "    </tr>\n",
       "    <tr>\n",
       "      <th>2</th>\n",
       "      <td>7</td>\n",
       "      <td>26.044539</td>\n",
       "      <td>-19.044539</td>\n",
       "    </tr>\n",
       "    <tr>\n",
       "      <th>3</th>\n",
       "      <td>17</td>\n",
       "      <td>26.754222</td>\n",
       "      <td>-9.754222</td>\n",
       "    </tr>\n",
       "    <tr>\n",
       "      <th>4</th>\n",
       "      <td>33</td>\n",
       "      <td>32.232952</td>\n",
       "      <td>0.767048</td>\n",
       "    </tr>\n",
       "    <tr>\n",
       "      <th>5</th>\n",
       "      <td>15</td>\n",
       "      <td>28.772156</td>\n",
       "      <td>-13.772156</td>\n",
       "    </tr>\n",
       "    <tr>\n",
       "      <th>6</th>\n",
       "      <td>14</td>\n",
       "      <td>17.681117</td>\n",
       "      <td>-3.681117</td>\n",
       "    </tr>\n",
       "    <tr>\n",
       "      <th>7</th>\n",
       "      <td>39</td>\n",
       "      <td>15.802611</td>\n",
       "      <td>23.197389</td>\n",
       "    </tr>\n",
       "    <tr>\n",
       "      <th>8</th>\n",
       "      <td>43</td>\n",
       "      <td>23.850783</td>\n",
       "      <td>19.149217</td>\n",
       "    </tr>\n",
       "    <tr>\n",
       "      <th>9</th>\n",
       "      <td>29</td>\n",
       "      <td>30.005567</td>\n",
       "      <td>-1.005567</td>\n",
       "    </tr>\n",
       "  </tbody>\n",
       "</table>\n",
       "</div>"
      ],
      "text/plain": [
       "   valor_real  prediccion  diferencia\n",
       "0          11   15.980705   -4.980705\n",
       "1          39   18.632078   20.367922\n",
       "2           7   26.044539  -19.044539\n",
       "3          17   26.754222   -9.754222\n",
       "4          33   32.232952    0.767048\n",
       "5          15   28.772156  -13.772156\n",
       "6          14   17.681117   -3.681117\n",
       "7          39   15.802611   23.197389\n",
       "8          43   23.850783   19.149217\n",
       "9          29   30.005567   -1.005567"
      ]
     },
     "execution_count": 45,
     "metadata": {},
     "output_type": "execute_result"
    }
   ],
   "source": [
    "df_predicciones = pd.DataFrame({'valor_real':Y_test, 'prediccion':y_test_predict, 'diferencia':Y_test-y_test_predict})\n",
    "df_predicciones = df_predicciones.reset_index(drop = True)\n",
    "df_predicciones.head(10)"
   ]
  },
  {
   "cell_type": "markdown",
   "metadata": {},
   "source": [
    "### Modelo con polinomio de grado 2 (parábola)"
   ]
  },
  {
   "cell_type": "code",
   "execution_count": 46,
   "metadata": {},
   "outputs": [
    {
     "name": "stdout",
     "output_type": "stream",
     "text": [
      "Entrenamiento: MSE =103.86177853443175\n",
      "Pruebas: MSE =100.0297601779165\n"
     ]
    },
    {
     "data": {
      "text/html": [
       "<div>\n",
       "<style scoped>\n",
       "    .dataframe tbody tr th:only-of-type {\n",
       "        vertical-align: middle;\n",
       "    }\n",
       "\n",
       "    .dataframe tbody tr th {\n",
       "        vertical-align: top;\n",
       "    }\n",
       "\n",
       "    .dataframe thead th {\n",
       "        text-align: right;\n",
       "    }\n",
       "</style>\n",
       "<table border=\"1\" class=\"dataframe\">\n",
       "  <thead>\n",
       "    <tr style=\"text-align: right;\">\n",
       "      <th></th>\n",
       "      <th>valor_real</th>\n",
       "      <th>prediccion</th>\n",
       "      <th>diferencia</th>\n",
       "    </tr>\n",
       "  </thead>\n",
       "  <tbody>\n",
       "    <tr>\n",
       "      <th>0</th>\n",
       "      <td>11</td>\n",
       "      <td>10.936453</td>\n",
       "      <td>0.063547</td>\n",
       "    </tr>\n",
       "    <tr>\n",
       "      <th>1</th>\n",
       "      <td>39</td>\n",
       "      <td>24.146439</td>\n",
       "      <td>14.853561</td>\n",
       "    </tr>\n",
       "    <tr>\n",
       "      <th>2</th>\n",
       "      <td>7</td>\n",
       "      <td>22.477394</td>\n",
       "      <td>-15.477394</td>\n",
       "    </tr>\n",
       "    <tr>\n",
       "      <th>3</th>\n",
       "      <td>17</td>\n",
       "      <td>28.599949</td>\n",
       "      <td>-11.599949</td>\n",
       "    </tr>\n",
       "    <tr>\n",
       "      <th>4</th>\n",
       "      <td>33</td>\n",
       "      <td>32.537338</td>\n",
       "      <td>0.462662</td>\n",
       "    </tr>\n",
       "    <tr>\n",
       "      <th>5</th>\n",
       "      <td>15</td>\n",
       "      <td>28.356808</td>\n",
       "      <td>-13.356808</td>\n",
       "    </tr>\n",
       "    <tr>\n",
       "      <th>6</th>\n",
       "      <td>14</td>\n",
       "      <td>27.318116</td>\n",
       "      <td>-13.318116</td>\n",
       "    </tr>\n",
       "    <tr>\n",
       "      <th>7</th>\n",
       "      <td>39</td>\n",
       "      <td>16.255853</td>\n",
       "      <td>22.744147</td>\n",
       "    </tr>\n",
       "    <tr>\n",
       "      <th>8</th>\n",
       "      <td>43</td>\n",
       "      <td>37.601568</td>\n",
       "      <td>5.398432</td>\n",
       "    </tr>\n",
       "    <tr>\n",
       "      <th>9</th>\n",
       "      <td>29</td>\n",
       "      <td>30.901505</td>\n",
       "      <td>-1.901505</td>\n",
       "    </tr>\n",
       "  </tbody>\n",
       "</table>\n",
       "</div>"
      ],
      "text/plain": [
       "   valor_real  prediccion  diferencia\n",
       "0          11   10.936453    0.063547\n",
       "1          39   24.146439   14.853561\n",
       "2           7   22.477394  -15.477394\n",
       "3          17   28.599949  -11.599949\n",
       "4          33   32.537338    0.462662\n",
       "5          15   28.356808  -13.356808\n",
       "6          14   27.318116  -13.318116\n",
       "7          39   16.255853   22.744147\n",
       "8          43   37.601568    5.398432\n",
       "9          29   30.901505   -1.901505"
      ]
     },
     "execution_count": 46,
     "metadata": {},
     "output_type": "execute_result"
    }
   ],
   "source": [
    "poly_model = LinearRegression()\n",
    "poly = PolynomialFeatures(degree=2)\n",
    "    \n",
    "Xpolytrain = poly.fit_transform(X_train)\n",
    "Xpolytest = poly.fit_transform(X_test)\n",
    "    \n",
    "poly_model.fit(Xpolytrain, Y_train)\n",
    "y_train_predict = poly_model.predict(Xpolytrain)\n",
    "    \n",
    "MSE = mean_squared_error(Y_train,y_train_predict)\n",
    "print(\"Entrenamiento: MSE =\"+str(MSE))\n",
    "    \n",
    "y_test_predict = poly_model.predict(Xpolytest)\n",
    "MSE = (mean_squared_error(Y_test, y_test_predict))\n",
    "print(\"Pruebas: MSE =\"+str(MSE))\n",
    "    \n",
    "df_predicciones = pd.DataFrame({'valor_real':Y_test, 'prediccion':y_test_predict, 'diferencia':Y_test-y_test_predict})\n",
    "df_predicciones = df_predicciones.reset_index(drop = True)\n",
    "df_predicciones.head(10)"
   ]
  },
  {
   "cell_type": "markdown",
   "metadata": {},
   "source": [
    "### Con serie de tiempo"
   ]
  },
  {
   "cell_type": "code",
   "execution_count": 47,
   "metadata": {},
   "outputs": [],
   "source": [
    "def transformarSerieADataset(serie, elementosPorMuestra):\n",
    "    dataset = None\n",
    "    salidasDataset = None\n",
    "    for counter in range (len(serie)-elementosPorMuestra-1):        \n",
    "        muestra = np.array([serie[counter:counter+elementosPorMuestra]])        \n",
    "        salida = np.array([serie[counter+elementosPorMuestra]])\n",
    "        if dataset is None:\n",
    "            dataset = muestra\n",
    "        else:\n",
    "            dataset = np.append(dataset,muestra,axis = 0)\n",
    "        if salidasDataset is None:\n",
    "            salidasDataset = salida    \n",
    "        else:        \n",
    "            salidasDataset = np.append(salidasDataset,salida)\n",
    "    return dataset, salidasDataset"
   ]
  },
  {
   "cell_type": "code",
   "execution_count": 48,
   "metadata": {},
   "outputs": [],
   "source": [
    "df_timeseries = pd.read_csv('Walmart_Store_sales.csv')\n",
    "df_timeseries['Weekly_Sales']\n",
    "serie = df_timeseries['Weekly_Sales'].to_numpy()\n",
    "    \n",
    "X, Y = transformarSerieADataset(serie, elementosPorMuestra = 10)"
   ]
  },
  {
   "cell_type": "code",
   "execution_count": 49,
   "metadata": {},
   "outputs": [
    {
     "name": "stdout",
     "output_type": "stream",
     "text": [
      "Entrenamiento: MSE =139.7952551163223\n",
      "Pruebas: MSE =134.3529275106685\n"
     ]
    }
   ],
   "source": [
    "lin_model = LinearRegression()\n",
    "lin_model.fit(X_train, Y_train)\n",
    "\n",
    "y_train_predict = lin_model.predict(X_train)\n",
    "MSE = mean_squared_error(Y_train,y_train_predict)\n",
    "print(\"Entrenamiento: MSE =\"+str(MSE))\n",
    "\n",
    "y_test_predict = lin_model.predict(X_test)\n",
    "MSE = (mean_squared_error(Y_test, y_test_predict))\n",
    "print(\"Pruebas: MSE =\"+str(MSE))"
   ]
  },
  {
   "cell_type": "code",
   "execution_count": 50,
   "metadata": {},
   "outputs": [
    {
     "data": {
      "text/html": [
       "<div>\n",
       "<style scoped>\n",
       "    .dataframe tbody tr th:only-of-type {\n",
       "        vertical-align: middle;\n",
       "    }\n",
       "\n",
       "    .dataframe tbody tr th {\n",
       "        vertical-align: top;\n",
       "    }\n",
       "\n",
       "    .dataframe thead th {\n",
       "        text-align: right;\n",
       "    }\n",
       "</style>\n",
       "<table border=\"1\" class=\"dataframe\">\n",
       "  <thead>\n",
       "    <tr style=\"text-align: right;\">\n",
       "      <th></th>\n",
       "      <th>valor real</th>\n",
       "      <th>prediccion</th>\n",
       "      <th>diferencia</th>\n",
       "    </tr>\n",
       "  </thead>\n",
       "  <tbody>\n",
       "    <tr>\n",
       "      <th>0</th>\n",
       "      <td>11</td>\n",
       "      <td>15.980705</td>\n",
       "      <td>-4.980705</td>\n",
       "    </tr>\n",
       "    <tr>\n",
       "      <th>1</th>\n",
       "      <td>39</td>\n",
       "      <td>18.632078</td>\n",
       "      <td>20.367922</td>\n",
       "    </tr>\n",
       "    <tr>\n",
       "      <th>2</th>\n",
       "      <td>7</td>\n",
       "      <td>26.044539</td>\n",
       "      <td>-19.044539</td>\n",
       "    </tr>\n",
       "    <tr>\n",
       "      <th>3</th>\n",
       "      <td>17</td>\n",
       "      <td>26.754222</td>\n",
       "      <td>-9.754222</td>\n",
       "    </tr>\n",
       "    <tr>\n",
       "      <th>4</th>\n",
       "      <td>33</td>\n",
       "      <td>32.232952</td>\n",
       "      <td>0.767048</td>\n",
       "    </tr>\n",
       "    <tr>\n",
       "      <th>5</th>\n",
       "      <td>15</td>\n",
       "      <td>28.772156</td>\n",
       "      <td>-13.772156</td>\n",
       "    </tr>\n",
       "    <tr>\n",
       "      <th>6</th>\n",
       "      <td>14</td>\n",
       "      <td>17.681117</td>\n",
       "      <td>-3.681117</td>\n",
       "    </tr>\n",
       "    <tr>\n",
       "      <th>7</th>\n",
       "      <td>39</td>\n",
       "      <td>15.802611</td>\n",
       "      <td>23.197389</td>\n",
       "    </tr>\n",
       "    <tr>\n",
       "      <th>8</th>\n",
       "      <td>43</td>\n",
       "      <td>23.850783</td>\n",
       "      <td>19.149217</td>\n",
       "    </tr>\n",
       "    <tr>\n",
       "      <th>9</th>\n",
       "      <td>29</td>\n",
       "      <td>30.005567</td>\n",
       "      <td>-1.005567</td>\n",
       "    </tr>\n",
       "  </tbody>\n",
       "</table>\n",
       "</div>"
      ],
      "text/plain": [
       "   valor real  prediccion  diferencia\n",
       "0          11   15.980705   -4.980705\n",
       "1          39   18.632078   20.367922\n",
       "2           7   26.044539  -19.044539\n",
       "3          17   26.754222   -9.754222\n",
       "4          33   32.232952    0.767048\n",
       "5          15   28.772156  -13.772156\n",
       "6          14   17.681117   -3.681117\n",
       "7          39   15.802611   23.197389\n",
       "8          43   23.850783   19.149217\n",
       "9          29   30.005567   -1.005567"
      ]
     },
     "execution_count": 50,
     "metadata": {},
     "output_type": "execute_result"
    }
   ],
   "source": [
    "df_predicciones = pd.DataFrame({'valor real':Y_test, 'prediccion':y_test_predict, 'diferencia':Y_test-y_test_predict})\n",
    "df_predicciones = df_predicciones.reset_index(drop = True)\n",
    "df_predicciones.head(10)"
   ]
  }
 ],
 "metadata": {
  "kernelspec": {
   "display_name": "Python 3",
   "language": "python",
   "name": "python3"
  },
  "language_info": {
   "codemirror_mode": {
    "name": "ipython",
    "version": 3
   },
   "file_extension": ".py",
   "mimetype": "text/x-python",
   "name": "python",
   "nbconvert_exporter": "python",
   "pygments_lexer": "ipython3",
   "version": "3.8.5"
  }
 },
 "nbformat": 4,
 "nbformat_minor": 4
}
